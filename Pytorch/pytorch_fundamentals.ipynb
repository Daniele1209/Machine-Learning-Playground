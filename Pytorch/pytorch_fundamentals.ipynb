{
  "nbformat": 4,
  "nbformat_minor": 0,
  "metadata": {
    "colab": {
      "provenance": []
    },
    "kernelspec": {
      "name": "python3",
      "display_name": "Python 3"
    },
    "language_info": {
      "name": "python"
    },
    "gpuClass": "standard",
    "accelerator": "GPU"
  },
  "cells": [
    {
      "cell_type": "code",
      "source": [
        "# Imports\n",
        "import torch\n",
        "import pandas as pd\n",
        "import numpy as np\n",
        "import matplotlib.pyplot as plt"
      ],
      "metadata": {
        "id": "nOgv6SMAqGIZ"
      },
      "execution_count": null,
      "outputs": []
    },
    {
      "cell_type": "markdown",
      "source": [
        "## Tensors and tensor manipulation"
      ],
      "metadata": {
        "id": "tQ3_0JbKrVYG"
      }
    },
    {
      "cell_type": "code",
      "source": [
        "# scalar\n",
        "scalar = torch.tensor(7)\n",
        "scalar"
      ],
      "metadata": {
        "colab": {
          "base_uri": "https://localhost:8080/"
        },
        "id": "PBPwNzcSqg-J",
        "outputId": "e82966f7-c030-4696-e54e-729c5bc1a280"
      },
      "execution_count": null,
      "outputs": [
        {
          "output_type": "execute_result",
          "data": {
            "text/plain": [
              "tensor(7)"
            ]
          },
          "metadata": {},
          "execution_count": 5
        }
      ]
    },
    {
      "cell_type": "code",
      "source": [
        "scalar.ndim"
      ],
      "metadata": {
        "colab": {
          "base_uri": "https://localhost:8080/"
        },
        "id": "BPtSXNxMrkxL",
        "outputId": "bf240bfb-66b1-46ed-e15d-96087efef087"
      },
      "execution_count": null,
      "outputs": [
        {
          "output_type": "execute_result",
          "data": {
            "text/plain": [
              "0"
            ]
          },
          "metadata": {},
          "execution_count": 6
        }
      ]
    },
    {
      "cell_type": "code",
      "source": [
        "scalar.item()"
      ],
      "metadata": {
        "colab": {
          "base_uri": "https://localhost:8080/"
        },
        "id": "RBS0o-ggsPDL",
        "outputId": "4ced73eb-02a2-4c94-9f95-de20366d5e7a"
      },
      "execution_count": null,
      "outputs": [
        {
          "output_type": "execute_result",
          "data": {
            "text/plain": [
              "7"
            ]
          },
          "metadata": {},
          "execution_count": 7
        }
      ]
    },
    {
      "cell_type": "code",
      "source": [
        "# vector\n",
        "vector = torch.tensor([7, 7])\n",
        "vector.shape"
      ],
      "metadata": {
        "colab": {
          "base_uri": "https://localhost:8080/"
        },
        "id": "S2cVqf-ssmj8",
        "outputId": "5f014bc3-89ce-4ca9-c8c3-1d61dba28967"
      },
      "execution_count": null,
      "outputs": [
        {
          "output_type": "execute_result",
          "data": {
            "text/plain": [
              "torch.Size([2])"
            ]
          },
          "metadata": {},
          "execution_count": 8
        }
      ]
    },
    {
      "cell_type": "code",
      "source": [
        "# matrix\n",
        "matrix = torch.tensor([[1, 2],[3, 4]])\n",
        "matrix.shape"
      ],
      "metadata": {
        "colab": {
          "base_uri": "https://localhost:8080/"
        },
        "id": "YRsEJhn1swbE",
        "outputId": "dfaff8c5-b638-48db-abc9-aeae9b7a7d2d"
      },
      "execution_count": null,
      "outputs": [
        {
          "output_type": "execute_result",
          "data": {
            "text/plain": [
              "torch.Size([2, 2])"
            ]
          },
          "metadata": {},
          "execution_count": 9
        }
      ]
    },
    {
      "cell_type": "code",
      "source": [
        "# tensor \n",
        "tensor = torch.tensor([[[1, 2, 3], [4, 5, 6], [5, 6, 7]]])\n",
        "tensor.shape"
      ],
      "metadata": {
        "colab": {
          "base_uri": "https://localhost:8080/"
        },
        "id": "1NYu0DMttdYE",
        "outputId": "cb345ac3-f380-4d46-c994-47aaaa63ec91"
      },
      "execution_count": null,
      "outputs": [
        {
          "output_type": "execute_result",
          "data": {
            "text/plain": [
              "torch.Size([1, 3, 3])"
            ]
          },
          "metadata": {},
          "execution_count": 10
        }
      ]
    },
    {
      "cell_type": "markdown",
      "source": [
        "### Random tensor generation"
      ],
      "metadata": {
        "id": "RF7rinoJu8AK"
      }
    },
    {
      "cell_type": "code",
      "source": [
        "# create random tensors with pre-def size\n",
        "rand_tensor = torch.rand(3, 4)\n",
        "rand_tensor"
      ],
      "metadata": {
        "colab": {
          "base_uri": "https://localhost:8080/"
        },
        "id": "yW--CYHPu_Cy",
        "outputId": "5ec6d41d-642a-4cec-f41a-8a3c18a34a96"
      },
      "execution_count": null,
      "outputs": [
        {
          "output_type": "execute_result",
          "data": {
            "text/plain": [
              "tensor([[0.0540, 0.8033, 0.8276, 0.7087],\n",
              "        [0.7602, 0.3224, 0.2256, 0.7533],\n",
              "        [0.0919, 0.2778, 0.5497, 0.5487]])"
            ]
          },
          "metadata": {},
          "execution_count": 11
        }
      ]
    },
    {
      "cell_type": "code",
      "source": [
        "# random img size tensor\n",
        "rand_img_tensor = torch.rand(size=(224, 224, 3))\n",
        "plt.imshow(rand_img_tensor)"
      ],
      "metadata": {
        "colab": {
          "base_uri": "https://localhost:8080/",
          "height": 286
        },
        "id": "7PYLeBX7vedN",
        "outputId": "db140d6d-e81e-4aee-e138-d521a3b9b31c"
      },
      "execution_count": null,
      "outputs": [
        {
          "output_type": "execute_result",
          "data": {
            "text/plain": [
              "<matplotlib.image.AxesImage at 0x7fc3bc2d0a60>"
            ]
          },
          "metadata": {},
          "execution_count": 12
        },
        {
          "output_type": "display_data",
          "data": {
            "text/plain": [
              "<Figure size 432x288 with 1 Axes>"
            ],
            "image/png": "[encoded data removed]"
          },
          "metadata": {
            "needs_background": "light"
          }
        }
      ]
    },
    {
      "cell_type": "code",
      "source": [
        "# Binary tensors\n",
        "zero = torch.zeros(3, 4) # change zeros with ones\n",
        "zero"
      ],
      "metadata": {
        "colab": {
          "base_uri": "https://localhost:8080/"
        },
        "id": "l1rsZ1ILwonf",
        "outputId": "ab67d4f0-5d39-49b6-8b54-3b81208d307b"
      },
      "execution_count": null,
      "outputs": [
        {
          "output_type": "execute_result",
          "data": {
            "text/plain": [
              "tensor([[0., 0., 0., 0.],\n",
              "        [0., 0., 0., 0.],\n",
              "        [0., 0., 0., 0.]])"
            ]
          },
          "metadata": {},
          "execution_count": 13
        }
      ]
    },
    {
      "cell_type": "markdown",
      "source": [
        "### Create tensor ranges"
      ],
      "metadata": {
        "id": "aqeEy-61xanW"
      }
    },
    {
      "cell_type": "code",
      "source": [
        "range_tensor = torch.range(start=0, end=999, step=12)\n",
        "range_tensor"
      ],
      "metadata": {
        "colab": {
          "base_uri": "https://localhost:8080/"
        },
        "id": "9YbrACZeyDz6",
        "outputId": "35220b06-3d1e-45ea-fcba-4402158124f6"
      },
      "execution_count": null,
      "outputs": [
        {
          "output_type": "stream",
          "name": "stderr",
          "text": [
            "<ipython-input-14-b3ea66864690>:1: UserWarning: torch.range is deprecated and will be removed in a future release because its behavior is inconsistent with Python's range builtin. Instead, use torch.arange, which produces values in [start, end).\n",
            "  range_tensor = torch.range(start=0, end=999, step=12)\n"
          ]
        },
        {
          "output_type": "execute_result",
          "data": {
            "text/plain": [
              "tensor([  0.,  12.,  24.,  36.,  48.,  60.,  72.,  84.,  96., 108., 120., 132.,\n",
              "        144., 156., 168., 180., 192., 204., 216., 228., 240., 252., 264., 276.,\n",
              "        288., 300., 312., 324., 336., 348., 360., 372., 384., 396., 408., 420.,\n",
              "        432., 444., 456., 468., 480., 492., 504., 516., 528., 540., 552., 564.,\n",
              "        576., 588., 600., 612., 624., 636., 648., 660., 672., 684., 696., 708.,\n",
              "        720., 732., 744., 756., 768., 780., 792., 804., 816., 828., 840., 852.,\n",
              "        864., 876., 888., 900., 912., 924., 936., 948., 960., 972., 984., 996.])"
            ]
          },
          "metadata": {},
          "execution_count": 14
        }
      ]
    },
    {
      "cell_type": "code",
      "source": [
        "range_zeros = torch.zeros_like(range_tensor) # creates a tensor of zeros the same size as provided tensor\n",
        "range_zeros"
      ],
      "metadata": {
        "colab": {
          "base_uri": "https://localhost:8080/"
        },
        "id": "B9QDS62LyJrh",
        "outputId": "8f618779-1902-470d-9ccb-87bfdd2770bd"
      },
      "execution_count": null,
      "outputs": [
        {
          "output_type": "execute_result",
          "data": {
            "text/plain": [
              "tensor([0., 0., 0., 0., 0., 0., 0., 0., 0., 0., 0., 0., 0., 0., 0., 0., 0., 0., 0., 0., 0., 0., 0., 0.,\n",
              "        0., 0., 0., 0., 0., 0., 0., 0., 0., 0., 0., 0., 0., 0., 0., 0., 0., 0., 0., 0., 0., 0., 0., 0.,\n",
              "        0., 0., 0., 0., 0., 0., 0., 0., 0., 0., 0., 0., 0., 0., 0., 0., 0., 0., 0., 0., 0., 0., 0., 0.,\n",
              "        0., 0., 0., 0., 0., 0., 0., 0., 0., 0., 0., 0.])"
            ]
          },
          "metadata": {},
          "execution_count": 15
        }
      ]
    },
    {
      "cell_type": "markdown",
      "source": [
        "### Tensor data types"
      ],
      "metadata": {
        "id": "okfEGzFQynCK"
      }
    },
    {
      "cell_type": "code",
      "source": [
        "float_32_tensor = torch.tensor([1.0, 3.0, 5.0], \n",
        "                               dtype=None, # data type for tensor\n",
        "                               device=None, # device handles the tensor\n",
        "                               requires_grad=False) # track the gradients of a tensor\n",
        "# by def tensors are float 32\n",
        "float_32_tensor "
      ],
      "metadata": {
        "colab": {
          "base_uri": "https://localhost:8080/"
        },
        "id": "2LXMOX7Gy6M7",
        "outputId": "d12ce1ac-7d48-46ef-9575-025a07f2b8c7"
      },
      "execution_count": null,
      "outputs": [
        {
          "output_type": "execute_result",
          "data": {
            "text/plain": [
              "tensor([1., 3., 5.])"
            ]
          },
          "metadata": {},
          "execution_count": 16
        }
      ]
    },
    {
      "cell_type": "code",
      "source": [
        "float_16_tensor = float_32_tensor.type(torch.float16)\n",
        "float_16_tensor"
      ],
      "metadata": {
        "colab": {
          "base_uri": "https://localhost:8080/"
        },
        "id": "1397_aXWzD5h",
        "outputId": "7fe9edb4-f6ed-437e-9f36-1afb1f7ef915"
      },
      "execution_count": null,
      "outputs": [
        {
          "output_type": "execute_result",
          "data": {
            "text/plain": [
              "tensor([1., 3., 5.], dtype=torch.float16)"
            ]
          },
          "metadata": {},
          "execution_count": 17
        }
      ]
    },
    {
      "cell_type": "markdown",
      "source": [
        "### Get tensor information"
      ],
      "metadata": {
        "id": "ZUrj-z-H04R_"
      }
    },
    {
      "cell_type": "code",
      "source": [
        "test_tensor = torch.rand(4, 5)\n",
        "test_tensor"
      ],
      "metadata": {
        "colab": {
          "base_uri": "https://localhost:8080/"
        },
        "id": "9vXvRxmz1fZT",
        "outputId": "4d42dcd5-6b0e-42f5-b0d9-249aebd928ce"
      },
      "execution_count": null,
      "outputs": [
        {
          "output_type": "execute_result",
          "data": {
            "text/plain": [
              "tensor([[0.9124, 0.1077, 0.2664, 0.1794, 0.7778],\n",
              "        [0.9091, 0.1231, 0.5919, 0.0504, 0.2901],\n",
              "        [0.6343, 0.6844, 0.3633, 0.8388, 0.0259],\n",
              "        [0.5342, 0.6651, 0.5601, 0.0313, 0.6942]])"
            ]
          },
          "metadata": {},
          "execution_count": 18
        }
      ]
    },
    {
      "cell_type": "code",
      "source": [
        "# tensor details (attributes)\n",
        "print('Datatype: ', test_tensor.dtype)\n",
        "print('Size: ', test_tensor.size())\n",
        "print('Shape: ', test_tensor.shape)\n",
        "print('Device tensor is on: ', test_tensor.device)"
      ],
      "metadata": {
        "colab": {
          "base_uri": "https://localhost:8080/"
        },
        "id": "403S4Of92CXI",
        "outputId": "f89a5162-8251-46b9-f394-c66e6f22a517"
      },
      "execution_count": null,
      "outputs": [
        {
          "output_type": "stream",
          "name": "stdout",
          "text": [
            "Datatype:  torch.float32\n",
            "Size:  torch.Size([4, 5])\n",
            "Shape:  torch.Size([4, 5])\n",
            "Device tensor is on:  cpu\n"
          ]
        }
      ]
    },
    {
      "cell_type": "markdown",
      "source": [
        "### Tensor operations\n",
        "* Addition\n",
        "* Subtraction\n",
        "* Multiplication (element-wise)\n",
        "* Division\n",
        "* Matrix multiplication\n",
        "\n"
      ],
      "metadata": {
        "id": "pRwifz4Z2bZD"
      }
    },
    {
      "cell_type": "code",
      "source": [
        "oper_tensor = torch.tensor([1, 2, 3])\n",
        "print(\"addition\", oper_tensor + 10)\n",
        "print(\"subtraction\", oper_tensor - 10)\n",
        "print(\"multiplication\", oper_tensor * 10) # can also use torch.mul(tensor, n)\n",
        "print(\"division\", oper_tensor / 10)\n",
        "print(\"mat mul\", oper_tensor * torch.tensor([10, 5, 3]))"
      ],
      "metadata": {
        "colab": {
          "base_uri": "https://localhost:8080/"
        },
        "id": "lOLS4w6K3mlL",
        "outputId": "adbd125d-14c4-4d4e-ac0c-477be707c9d5"
      },
      "execution_count": null,
      "outputs": [
        {
          "output_type": "stream",
          "name": "stdout",
          "text": [
            "addition tensor([11, 12, 13])\n",
            "subtraction tensor([-9, -8, -7])\n",
            "multiplication tensor([10, 20, 30])\n",
            "division tensor([0.1000, 0.2000, 0.3000])\n",
            "mat mul tensor([10, 10,  9])\n"
          ]
        }
      ]
    },
    {
      "cell_type": "code",
      "source": [
        "# multiplication of matrix\n",
        "torch.matmul(oper_tensor, oper_tensor)"
      ],
      "metadata": {
        "colab": {
          "base_uri": "https://localhost:8080/"
        },
        "id": "PvZzolMQ90Rq",
        "outputId": "3c15cccf-008b-4609-8386-8cb986f0f8dc"
      },
      "execution_count": null,
      "outputs": [
        {
          "output_type": "execute_result",
          "data": {
            "text/plain": [
              "tensor(14)"
            ]
          },
          "metadata": {},
          "execution_count": 21
        }
      ]
    },
    {
      "cell_type": "markdown",
      "source": [
        "### Rules of matrix multiplication\n",
        "* Inner and outer sizes must match (e.g. [3, 2] X [2, 3])\n",
        "* The out shape will match the outer dimension (e.g. 3 in the case above)"
      ],
      "metadata": {
        "id": "W3FOBJt2E58k"
      }
    },
    {
      "cell_type": "code",
      "source": [
        "# in order to fix the most common error in matrix multiplication (size incompatibility)\n",
        "# we will use Transpose operation\n",
        "tensor = torch.rand(2, 4)\n",
        "tensor.shape"
      ],
      "metadata": {
        "colab": {
          "base_uri": "https://localhost:8080/"
        },
        "id": "7LYXfme8Adna",
        "outputId": "aa48b678-d00a-4864-c182-f07ac0617a9c"
      },
      "execution_count": null,
      "outputs": [
        {
          "output_type": "execute_result",
          "data": {
            "text/plain": [
              "torch.Size([2, 4])"
            ]
          },
          "metadata": {},
          "execution_count": 22
        }
      ]
    },
    {
      "cell_type": "code",
      "source": [
        "tensor.T.shape"
      ],
      "metadata": {
        "colab": {
          "base_uri": "https://localhost:8080/"
        },
        "id": "JGfmLyQFDXeQ",
        "outputId": "c6ad1d30-9ade-4efa-a29a-093354381d64"
      },
      "execution_count": null,
      "outputs": [
        {
          "output_type": "execute_result",
          "data": {
            "text/plain": [
              "torch.Size([4, 2])"
            ]
          },
          "metadata": {},
          "execution_count": 23
        }
      ]
    },
    {
      "cell_type": "markdown",
      "source": [
        "### Tensor aggregation (mean, max, mul, etc.)"
      ],
      "metadata": {
        "id": "haqR2tqqFxFj"
      }
    },
    {
      "cell_type": "code",
      "source": [
        "tensor = torch.range(0, 100, 5)\n",
        "print(tensor)\n",
        "print(\"min: \", torch.min(tensor))\n",
        "print(\"max: \", torch.max(tensor))\n",
        "print(\"avg: \", torch.mean(tensor))\n",
        "print(\"sum: \", torch.sum(tensor))"
      ],
      "metadata": {
        "colab": {
          "base_uri": "https://localhost:8080/"
        },
        "id": "jUks99weGW7Y",
        "outputId": "6d8713cf-d9d6-45a6-b6ac-4e3ac4484b03"
      },
      "execution_count": null,
      "outputs": [
        {
          "output_type": "stream",
          "name": "stdout",
          "text": [
            "tensor([  0.,   5.,  10.,  15.,  20.,  25.,  30.,  35.,  40.,  45.,  50.,  55.,\n",
            "         60.,  65.,  70.,  75.,  80.,  85.,  90.,  95., 100.])\n",
            "min:  tensor(0.)\n",
            "max:  tensor(100.)\n",
            "avg:  tensor(50.)\n",
            "sum:  tensor(1050.)\n"
          ]
        },
        {
          "output_type": "stream",
          "name": "stderr",
          "text": [
            "<ipython-input-24-14a2ab5bb63e>:1: UserWarning: torch.range is deprecated and will be removed in a future release because its behavior is inconsistent with Python's range builtin. Instead, use torch.arange, which produces values in [start, end).\n",
            "  tensor = torch.range(0, 100, 5)\n"
          ]
        }
      ]
    },
    {
      "cell_type": "code",
      "source": [
        "# find positions of values\n",
        "tensor.argmin()"
      ],
      "metadata": {
        "colab": {
          "base_uri": "https://localhost:8080/"
        },
        "id": "fKS0jpjcGn1R",
        "outputId": "444340b1-05aa-4396-d074-6e025716b68f"
      },
      "execution_count": null,
      "outputs": [
        {
          "output_type": "execute_result",
          "data": {
            "text/plain": [
              "tensor(0)"
            ]
          },
          "metadata": {},
          "execution_count": 25
        }
      ]
    },
    {
      "cell_type": "markdown",
      "source": [
        "## Reshape, stack, squeeze and unsqueeze\n",
        "* reshape - reshaping an input tensor to de def shape\n",
        "* view - ret view input of tensor of certian shape, keep the same memory\n",
        "* stack - combine multiple tensors (vstacking)\n",
        "* squeeze - removes all `1` dimensions from tensor\n",
        "* unsqueeze - add a `1` dimension to tensor\n",
        "* permute - ret a view of the input with dimensions swapped"
      ],
      "metadata": {
        "id": "BLEafLfQHqgL"
      }
    },
    {
      "cell_type": "code",
      "source": [
        "t = torch.range(1, 10)\n",
        "t.shape"
      ],
      "metadata": {
        "colab": {
          "base_uri": "https://localhost:8080/"
        },
        "id": "UitcuDJVH8Ys",
        "outputId": "591455b4-c48d-4b81-8c89-2a1f9ad02b71"
      },
      "execution_count": null,
      "outputs": [
        {
          "output_type": "stream",
          "name": "stderr",
          "text": [
            "<ipython-input-26-8647a7a4950c>:1: UserWarning: torch.range is deprecated and will be removed in a future release because its behavior is inconsistent with Python's range builtin. Instead, use torch.arange, which produces values in [start, end).\n",
            "  t = torch.range(1, 10)\n"
          ]
        },
        {
          "output_type": "execute_result",
          "data": {
            "text/plain": [
              "torch.Size([10])"
            ]
          },
          "metadata": {},
          "execution_count": 26
        }
      ]
    },
    {
      "cell_type": "code",
      "source": [
        "t_reshaped = t.reshape(5, 2)\n",
        "t_reshaped"
      ],
      "metadata": {
        "colab": {
          "base_uri": "https://localhost:8080/"
        },
        "id": "1mCQucTAJIbR",
        "outputId": "c3b98af3-656b-4643-f209-012269799d87"
      },
      "execution_count": null,
      "outputs": [
        {
          "output_type": "execute_result",
          "data": {
            "text/plain": [
              "tensor([[ 1.,  2.],\n",
              "        [ 3.,  4.],\n",
              "        [ 5.,  6.],\n",
              "        [ 7.,  8.],\n",
              "        [ 9., 10.]])"
            ]
          },
          "metadata": {},
          "execution_count": 27
        }
      ]
    },
    {
      "cell_type": "code",
      "source": [
        "# stack\n",
        "stacked_tensor = torch.stack([t, t, t, t], dim=1) # can add dim\n",
        "stacked_tensor"
      ],
      "metadata": {
        "id": "yia7hS1FJS3U",
        "colab": {
          "base_uri": "https://localhost:8080/"
        },
        "outputId": "206ace2e-5b43-47c2-aa73-c016ca6fa84f"
      },
      "execution_count": null,
      "outputs": [
        {
          "output_type": "execute_result",
          "data": {
            "text/plain": [
              "tensor([[ 1.,  1.,  1.,  1.],\n",
              "        [ 2.,  2.,  2.,  2.],\n",
              "        [ 3.,  3.,  3.,  3.],\n",
              "        [ 4.,  4.,  4.,  4.],\n",
              "        [ 5.,  5.,  5.,  5.],\n",
              "        [ 6.,  6.,  6.,  6.],\n",
              "        [ 7.,  7.,  7.,  7.],\n",
              "        [ 8.,  8.,  8.,  8.],\n",
              "        [ 9.,  9.,  9.,  9.],\n",
              "        [10., 10., 10., 10.]])"
            ]
          },
          "metadata": {},
          "execution_count": 28
        }
      ]
    },
    {
      "cell_type": "code",
      "source": [
        "# squeeze\n",
        "unsqueezed_tensor = torch.tensor([[1, 2, 3, 4, 5]])\n",
        "unsqueezed_tensor.shape"
      ],
      "metadata": {
        "id": "XxR4zMz3k26n",
        "colab": {
          "base_uri": "https://localhost:8080/"
        },
        "outputId": "c27dc2b0-2bf8-48d8-9e6d-aeacf1a83c2f"
      },
      "execution_count": null,
      "outputs": [
        {
          "output_type": "execute_result",
          "data": {
            "text/plain": [
              "torch.Size([1, 5])"
            ]
          },
          "metadata": {},
          "execution_count": 29
        }
      ]
    },
    {
      "cell_type": "code",
      "source": [
        "squeezed_tensor = unsqueezed_tensor.squeeze()\n",
        "squeezed_tensor.shape"
      ],
      "metadata": {
        "colab": {
          "base_uri": "https://localhost:8080/"
        },
        "id": "gfmVHN9aj0wT",
        "outputId": "138d3b86-7d10-4dfa-d458-4f64f9b21c70"
      },
      "execution_count": null,
      "outputs": [
        {
          "output_type": "execute_result",
          "data": {
            "text/plain": [
              "torch.Size([5])"
            ]
          },
          "metadata": {},
          "execution_count": 30
        }
      ]
    },
    {
      "cell_type": "code",
      "source": [
        "# unsqueeze\n",
        "unsqueezed_tensor = unsqueezed_tensor.unsqueeze(dim=0) # can also gor for dim 1\n",
        "unsqueezed_tensor"
      ],
      "metadata": {
        "colab": {
          "base_uri": "https://localhost:8080/"
        },
        "id": "1EgjMjRxkNcQ",
        "outputId": "b1750e99-191b-4f3d-cbf4-cd3edc67582b"
      },
      "execution_count": null,
      "outputs": [
        {
          "output_type": "execute_result",
          "data": {
            "text/plain": [
              "tensor([[[1, 2, 3, 4, 5]]])"
            ]
          },
          "metadata": {},
          "execution_count": 31
        }
      ]
    },
    {
      "cell_type": "code",
      "source": [
        "# permutations\n",
        "original_tensor = torch.rand(size=(224, 224, 3))\n",
        "# arrange the dimension order (axis)\n",
        "permuted_tensor = original_tensor.permute(2, 0, 1) # change order -> (3, 224, 224)\n",
        "permuted_tensor.shape"
      ],
      "metadata": {
        "colab": {
          "base_uri": "https://localhost:8080/"
        },
        "id": "zYkwmwtokO4r",
        "outputId": "7447c583-f211-428c-a7a7-81113e8ddef0"
      },
      "execution_count": null,
      "outputs": [
        {
          "output_type": "execute_result",
          "data": {
            "text/plain": [
              "torch.Size([3, 224, 224])"
            ]
          },
          "metadata": {},
          "execution_count": 32
        }
      ]
    },
    {
      "cell_type": "markdown",
      "source": [
        "## Indexing"
      ],
      "metadata": {
        "id": "QxxLDEbpnYar"
      }
    },
    {
      "cell_type": "code",
      "source": [
        "index_tensor = torch.arange(1, 10).reshape(1, 3, 3)\n",
        "index_tensor, index_tensor.shape"
      ],
      "metadata": {
        "colab": {
          "base_uri": "https://localhost:8080/"
        },
        "id": "0a5GQhZmnbE9",
        "outputId": "72646c3e-f90a-4ce4-cf8a-e269fefd7713"
      },
      "execution_count": null,
      "outputs": [
        {
          "output_type": "execute_result",
          "data": {
            "text/plain": [
              "(tensor([[[1, 2, 3],\n",
              "          [4, 5, 6],\n",
              "          [7, 8, 9]]]), torch.Size([1, 3, 3]))"
            ]
          },
          "metadata": {},
          "execution_count": 33
        }
      ]
    },
    {
      "cell_type": "code",
      "source": [
        "index_tensor[0, :, 2] # : <- all from a certain dimension"
      ],
      "metadata": {
        "colab": {
          "base_uri": "https://localhost:8080/"
        },
        "id": "LJPGR46_nk4e",
        "outputId": "a4e93ff2-9df1-4341-891c-16d408bb16ed"
      },
      "execution_count": null,
      "outputs": [
        {
          "output_type": "execute_result",
          "data": {
            "text/plain": [
              "tensor([3, 6, 9])"
            ]
          },
          "metadata": {},
          "execution_count": 34
        }
      ]
    },
    {
      "cell_type": "markdown",
      "source": [
        "# Numpy\n",
        "*   Numpy -> Torch: torch.from_numpy(ndarray)\n",
        "*   Torch -> Numpy: torch.Tensor.numpy()"
      ],
      "metadata": {
        "id": "suNXzbHeoO1b"
      }
    },
    {
      "cell_type": "code",
      "source": [
        "np_array = np.arange(1.0, 8.0)\n",
        "tensor = torch.from_numpy(np_array).type(torch.float32)\n",
        "np_array, tensor"
      ],
      "metadata": {
        "id": "gmItxx8xpGfp",
        "colab": {
          "base_uri": "https://localhost:8080/"
        },
        "outputId": "34e55270-77ed-4719-cb18-65168374f925"
      },
      "execution_count": null,
      "outputs": [
        {
          "output_type": "execute_result",
          "data": {
            "text/plain": [
              "(array([1., 2., 3., 4., 5., 6., 7.]), tensor([1., 2., 3., 4., 5., 6., 7.]))"
            ]
          },
          "metadata": {},
          "execution_count": 35
        }
      ]
    },
    {
      "cell_type": "code",
      "source": [
        "new_tensor = torch.tensor([1, 2, 3, 4])\n",
        "new_array = torch.Tensor.numpy(new_tensor)\n",
        "new_tensor, new_array"
      ],
      "metadata": {
        "colab": {
          "base_uri": "https://localhost:8080/"
        },
        "id": "tlujQRvcdzy3",
        "outputId": "f9471edb-ad10-4232-ebcd-f68dea9f13a8"
      },
      "execution_count": null,
      "outputs": [
        {
          "output_type": "execute_result",
          "data": {
            "text/plain": [
              "(tensor([1, 2, 3, 4]), array([1, 2, 3, 4]))"
            ]
          },
          "metadata": {},
          "execution_count": 36
        }
      ]
    },
    {
      "cell_type": "markdown",
      "source": [
        "# Reproducibility\n",
        "make random but reproducible tensors"
      ],
      "metadata": {
        "id": "Mp39izKpzCZu"
      }
    },
    {
      "cell_type": "code",
      "source": [
        "RAND_SEED = 42\n",
        "\n",
        "torch.manual_seed(42)"
      ],
      "metadata": {
        "colab": {
          "base_uri": "https://localhost:8080/"
        },
        "id": "00w1cdXyznVa",
        "outputId": "be010f13-bcbb-4ce5-f85c-8b64edbcb0e1"
      },
      "execution_count": null,
      "outputs": [
        {
          "output_type": "execute_result",
          "data": {
            "text/plain": [
              "<torch._C.Generator at 0x7fc3c3f4c410>"
            ]
          },
          "metadata": {},
          "execution_count": 37
        }
      ]
    },
    {
      "cell_type": "code",
      "source": [
        "random_tensor_a = torch.rand(3, 4)\n",
        "\n",
        "torch.manual_seed(42)\n",
        "random_tensor_b = torch.rand(3, 4)\n",
        "\n",
        "print(random_tensor_a == random_tensor_b)"
      ],
      "metadata": {
        "colab": {
          "base_uri": "https://localhost:8080/"
        },
        "id": "N6UvedLq8by1",
        "outputId": "80ce8f31-a953-4d22-f93d-f6716fc6990e"
      },
      "execution_count": null,
      "outputs": [
        {
          "output_type": "stream",
          "name": "stdout",
          "text": [
            "tensor([[True, True, True, True],\n",
            "        [True, True, True, True],\n",
            "        [True, True, True, True]])\n"
          ]
        }
      ]
    },
    {
      "cell_type": "markdown",
      "source": [
        "# GPU "
      ],
      "metadata": {
        "id": "92QAuM3n8ydg"
      }
    },
    {
      "cell_type": "code",
      "source": [
        "!nvidia-smi"
      ],
      "metadata": {
        "id": "UhN5sDZyAgn7",
        "colab": {
          "base_uri": "https://localhost:8080/"
        },
        "outputId": "c6fb36d7-f616-40c7-9adb-b4bdd2d238d1"
      },
      "execution_count": null,
      "outputs": [
        {
          "output_type": "stream",
          "name": "stdout",
          "text": [
            "Fri Feb 10 00:06:45 2023       \n",
            "+-----------------------------------------------------------------------------+\n",
            "| NVIDIA-SMI 510.47.03    Driver Version: 510.47.03    CUDA Version: 11.6     |\n",
            "|-------------------------------+----------------------+----------------------+\n",
            "| GPU  Name        Persistence-M| Bus-Id        Disp.A | Volatile Uncorr. ECC |\n",
            "| Fan  Temp  Perf  Pwr:Usage/Cap|         Memory-Usage | GPU-Util  Compute M. |\n",
            "|                               |                      |               MIG M. |\n",
            "|===============================+======================+======================|\n",
            "|   0  Tesla T4            Off  | 00000000:00:04.0 Off |                    0 |\n",
            "| N/A   43C    P0    26W /  70W |      0MiB / 15360MiB |      0%      Default |\n",
            "|                               |                      |                  N/A |\n",
            "+-------------------------------+----------------------+----------------------+\n",
            "                                                                               \n",
            "+-----------------------------------------------------------------------------+\n",
            "| Processes:                                                                  |\n",
            "|  GPU   GI   CI        PID   Type   Process name                  GPU Memory |\n",
            "|        ID   ID                                                   Usage      |\n",
            "|=============================================================================|\n",
            "|  No running processes found                                                 |\n",
            "+-----------------------------------------------------------------------------+\n"
          ]
        }
      ]
    },
    {
      "cell_type": "code",
      "source": [
        "torch.cuda.is_available(), torch.cuda.device_count()"
      ],
      "metadata": {
        "colab": {
          "base_uri": "https://localhost:8080/"
        },
        "id": "JEqPbslgpK7q",
        "outputId": "136f7d46-7a16-48fd-f3d7-c238cd8dc349"
      },
      "execution_count": null,
      "outputs": [
        {
          "output_type": "execute_result",
          "data": {
            "text/plain": [
              "(True, 1)"
            ]
          },
          "metadata": {},
          "execution_count": 42
        }
      ]
    },
    {
      "cell_type": "code",
      "source": [
        "device = \"cuda\" if torch.cuda.is_available() else \"cpu\"\n",
        "device"
      ],
      "metadata": {
        "colab": {
          "base_uri": "https://localhost:8080/",
          "height": 35
        },
        "id": "kievo_gHpRkl",
        "outputId": "26edcb05-4249-4ef8-c805-6e7e8fad6776"
      },
      "execution_count": null,
      "outputs": [
        {
          "output_type": "execute_result",
          "data": {
            "text/plain": [
              "'cuda'"
            ],
            "application/vnd.google.colaboratory.intrinsic+json": {
              "type": "string"
            }
          },
          "metadata": {},
          "execution_count": 41
        }
      ]
    },
    {
      "cell_type": "code",
      "source": [
        "# move tensor to device (GPU)\n",
        "test_tensor = torch.tensor([1, 2, 3])\n",
        "tensor_gpu = test_tensor.to(device)"
      ],
      "metadata": {
        "id": "MVjX-0kvpnrF"
      },
      "execution_count": null,
      "outputs": []
    },
    {
      "cell_type": "code",
      "source": [
        "#move tensor back to CPU\n",
        "tensor_cpu = tensor_gpu.cpu().numpy()\n",
        "tensor_cpu"
      ],
      "metadata": {
        "colab": {
          "base_uri": "https://localhost:8080/"
        },
        "id": "m-uU4m-mqa11",
        "outputId": "92798f07-87a8-4715-b742-e383d67dea10"
      },
      "execution_count": null,
      "outputs": [
        {
          "output_type": "execute_result",
          "data": {
            "text/plain": [
              "array([1, 2, 3])"
            ]
          },
          "metadata": {},
          "execution_count": 45
        }
      ]
    }
  ]
}