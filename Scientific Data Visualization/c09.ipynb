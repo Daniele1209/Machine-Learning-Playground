{
 "cells": [
  {
   "cell_type": "markdown",
   "id": "352d3ce9-aeee-4f62-8299-2f1524090193",
   "metadata": {},
   "source": [
    "# Logscale"
   ]
  },
  {
   "cell_type": "code",
   "execution_count": 26,
   "id": "44e8c498-6b42-41e9-b1ec-b07602d227bf",
   "metadata": {},
   "outputs": [],
   "source": [
    "import matplotlib.pyplot as plt\n",
    "import pandas as pd\n",
    "import seaborn as sns\n",
    "import numpy as np\n",
    "import scipy.stats as ss\n",
    "import vega_datasets"
   ]
  },
  {
   "cell_type": "markdown",
   "id": "e5ad5500-0615-4763-95cc-1f2d43b39112",
   "metadata": {
    "id": "ajV9ZfvTFdDG"
   },
   "source": [
    "## Ratio and logarithm\n",
    "\n",
    "If you use linear scale to visualize ratios, it can be quite misleading.\n",
    "\n",
    "Let's first create some ratios."
   ]
  },
  {
   "cell_type": "code",
   "execution_count": 27,
   "id": "c307b4f3-9654-4bb4-85cc-cc714e14976e",
   "metadata": {
    "collapsed": false,
    "id": "HVPIhx7pFdDG",
    "jupyter": {
     "outputs_hidden": false
    },
    "outputId": "8b78f906-ca52-4a70-d861-103991a2512d"
   },
   "outputs": [
    {
     "name": "stdout",
     "output_type": "stream",
     "text": [
      "[1.e-03 1.e-02 1.e-01 1.e+00 1.e+01 1.e+02 1.e+03]\n"
     ]
    }
   ],
   "source": [
    "x = np.array([1,    1,   1,  1, 10, 100, 1000])\n",
    "y = np.array([1000, 100, 10, 1, 1,  1,   1   ])\n",
    "ratio = x/y\n",
    "print(ratio)"
   ]
  },
  {
   "cell_type": "markdown",
   "id": "3d6dfdbb-d094-431f-8798-4b8b1ac5e874",
   "metadata": {
    "id": "a3WyTujgFdDL"
   },
   "source": [
    "**Q: Plot on the linear scale using the [`scatter()`](http://matplotlib.org/examples/shapes_and_collections/scatter_demo.html) function. Also draw a horizontal line at ratio=1 for a reference.**"
   ]
  },
  {
   "cell_type": "code",
   "execution_count": 28,
   "id": "83f8c500-3fe4-44e7-a27c-63d7f730a06d",
   "metadata": {
    "collapsed": false,
    "id": "BrSt3CqOFdDM",
    "jupyter": {
     "outputs_hidden": false
    },
    "outputId": "523ecc60-1ae0-4e02-d6fd-1f93077354ae"
   },
   "outputs": [
    {
     "data": {
      "image/png": "[encoded data removed]",
      "text/plain": [
       "<Figure size 432x288 with 1 Axes>"
      ]
     },
     "metadata": {
      "needs_background": "light"
     },
     "output_type": "display_data"
    }
   ],
   "source": [
    "X = np.arange(len(ratio))\n",
    "\n",
    "# Implement\n",
    "plt.scatter(X, ratio, alpha=.5)\n",
    "plt.axhline(y = 1, color = 'b', linestyle = '-')\n",
    "plt.show()\n"
   ]
  },
  {
   "cell_type": "markdown",
   "id": "cf75fbb9-91d1-4fb9-9fc1-bd68d461f800",
   "metadata": {
    "id": "Nm1PVfZ1FdDN"
   },
   "source": [
    "**Q: Is this a good visualization of the ratio data? Why? Why not? Explain.**"
   ]
  },
  {
   "cell_type": "code",
   "execution_count": 29,
   "id": "a7e0d428-4c79-44c4-a264-4d4c63a8310b",
   "metadata": {
    "id": "6QR6wPb8FdDN"
   },
   "outputs": [],
   "source": [
    "# This is not a good data representation, as we have a large bap between the ratios, and as we see, \n",
    "# at smaller values they seem to be in the same range, but they are not"
   ]
  },
  {
   "cell_type": "markdown",
   "id": "887c27b3-a9ee-4f60-8d5f-3387ea9ef66f",
   "metadata": {
    "id": "NX186nMlFdDO"
   },
   "source": [
    "**Q: Can you fix it?**"
   ]
  },
  {
   "cell_type": "code",
   "execution_count": 30,
   "id": "238c89b0-d9e4-4883-8d42-5cb780582039",
   "metadata": {
    "collapsed": false,
    "id": "LloZA8HpFdDO",
    "jupyter": {
     "outputs_hidden": false
    }
   },
   "outputs": [
    {
     "data": {
      "image/png": "[encoded data removed]",
      "text/plain": [
       "<Figure size 432x288 with 1 Axes>"
      ]
     },
     "metadata": {
      "needs_background": "light"
     },
     "output_type": "display_data"
    }
   ],
   "source": [
    "# Implement\n",
    "plt.scatter(X, ratio, alpha=.5)\n",
    "plt.axhline(y = .1, color = 'b', linestyle = '-')\n",
    "plt.yscale('log')\n",
    "plt.show()"
   ]
  },
  {
   "attachments": {},
   "cell_type": "markdown",
   "id": "837fae24-db4f-43e3-85d9-bfcf2a6d9fb2",
   "metadata": {
    "id": "YLw4Lf56FdDO"
   },
   "source": [
    "## Log-binning\n",
    "\n",
    "Let's first see what happens if we do not use the log scale for a dataset with a heavy tail. \n",
    "\n",
    "**Q: Load the movie dataset from `vega_datasets` and remove the NaN rows based on the following three columns: `IMDB_Rating`, `IMDB_Votes`, `Rotten_Tomatoes_Rating`.**"
   ]
  },
  {
   "cell_type": "code",
   "execution_count": 35,
   "id": "c8638958-c5dc-471e-b4e7-701b622f4a94",
   "metadata": {
    "id": "PPhPxPDkFdDP"
   },
   "outputs": [
    {
     "data": {
      "text/html": [
       "<div>\n",
       "<style scoped>\n",
       "    .dataframe tbody tr th:only-of-type {\n",
       "        vertical-align: middle;\n",
       "    }\n",
       "\n",
       "    .dataframe tbody tr th {\n",
       "        vertical-align: top;\n",
       "    }\n",
       "\n",
       "    .dataframe thead th {\n",
       "        text-align: right;\n",
       "    }\n",
       "</style>\n",
       "<table border=\"1\" class=\"dataframe\">\n",
       "  <thead>\n",
       "    <tr style=\"text-align: right;\">\n",
       "      <th></th>\n",
       "      <th>Title</th>\n",
       "      <th>US_Gross</th>\n",
       "      <th>Worldwide_Gross</th>\n",
       "      <th>US_DVD_Sales</th>\n",
       "      <th>Production_Budget</th>\n",
       "      <th>Release_Date</th>\n",
       "      <th>MPAA_Rating</th>\n",
       "      <th>Running_Time_min</th>\n",
       "      <th>Distributor</th>\n",
       "      <th>Source</th>\n",
       "      <th>Major_Genre</th>\n",
       "      <th>Creative_Type</th>\n",
       "      <th>Director</th>\n",
       "      <th>Rotten_Tomatoes_Rating</th>\n",
       "      <th>IMDB_Rating</th>\n",
       "      <th>IMDB_Votes</th>\n",
       "    </tr>\n",
       "  </thead>\n",
       "  <tbody>\n",
       "    <tr>\n",
       "      <th>4</th>\n",
       "      <td>Slam</td>\n",
       "      <td>1009819.0</td>\n",
       "      <td>1087521.0</td>\n",
       "      <td>NaN</td>\n",
       "      <td>1000000.0</td>\n",
       "      <td>Oct 09 1998</td>\n",
       "      <td>R</td>\n",
       "      <td>NaN</td>\n",
       "      <td>Trimark</td>\n",
       "      <td>Original Screenplay</td>\n",
       "      <td>Drama</td>\n",
       "      <td>Contemporary Fiction</td>\n",
       "      <td>None</td>\n",
       "      <td>62.0</td>\n",
       "      <td>3.4</td>\n",
       "      <td>165.0</td>\n",
       "    </tr>\n",
       "    <tr>\n",
       "      <th>8</th>\n",
       "      <td>Pirates</td>\n",
       "      <td>1641825.0</td>\n",
       "      <td>6341825.0</td>\n",
       "      <td>NaN</td>\n",
       "      <td>40000000.0</td>\n",
       "      <td>Jul 01 1986</td>\n",
       "      <td>R</td>\n",
       "      <td>NaN</td>\n",
       "      <td>None</td>\n",
       "      <td>None</td>\n",
       "      <td>None</td>\n",
       "      <td>None</td>\n",
       "      <td>Roman Polanski</td>\n",
       "      <td>25.0</td>\n",
       "      <td>5.8</td>\n",
       "      <td>3275.0</td>\n",
       "    </tr>\n",
       "    <tr>\n",
       "      <th>9</th>\n",
       "      <td>Duel in the Sun</td>\n",
       "      <td>20400000.0</td>\n",
       "      <td>20400000.0</td>\n",
       "      <td>NaN</td>\n",
       "      <td>6000000.0</td>\n",
       "      <td>Dec 31 2046</td>\n",
       "      <td>None</td>\n",
       "      <td>NaN</td>\n",
       "      <td>None</td>\n",
       "      <td>None</td>\n",
       "      <td>None</td>\n",
       "      <td>None</td>\n",
       "      <td>None</td>\n",
       "      <td>86.0</td>\n",
       "      <td>7.0</td>\n",
       "      <td>2906.0</td>\n",
       "    </tr>\n",
       "    <tr>\n",
       "      <th>10</th>\n",
       "      <td>Tom Jones</td>\n",
       "      <td>37600000.0</td>\n",
       "      <td>37600000.0</td>\n",
       "      <td>NaN</td>\n",
       "      <td>1000000.0</td>\n",
       "      <td>Oct 07 1963</td>\n",
       "      <td>None</td>\n",
       "      <td>NaN</td>\n",
       "      <td>None</td>\n",
       "      <td>None</td>\n",
       "      <td>None</td>\n",
       "      <td>None</td>\n",
       "      <td>None</td>\n",
       "      <td>81.0</td>\n",
       "      <td>7.0</td>\n",
       "      <td>4035.0</td>\n",
       "    </tr>\n",
       "    <tr>\n",
       "      <th>11</th>\n",
       "      <td>Oliver!</td>\n",
       "      <td>37402877.0</td>\n",
       "      <td>37402877.0</td>\n",
       "      <td>NaN</td>\n",
       "      <td>10000000.0</td>\n",
       "      <td>Dec 11 1968</td>\n",
       "      <td>None</td>\n",
       "      <td>NaN</td>\n",
       "      <td>Sony Pictures</td>\n",
       "      <td>None</td>\n",
       "      <td>Musical</td>\n",
       "      <td>None</td>\n",
       "      <td>None</td>\n",
       "      <td>84.0</td>\n",
       "      <td>7.5</td>\n",
       "      <td>9111.0</td>\n",
       "    </tr>\n",
       "    <tr>\n",
       "      <th>...</th>\n",
       "      <td>...</td>\n",
       "      <td>...</td>\n",
       "      <td>...</td>\n",
       "      <td>...</td>\n",
       "      <td>...</td>\n",
       "      <td>...</td>\n",
       "      <td>...</td>\n",
       "      <td>...</td>\n",
       "      <td>...</td>\n",
       "      <td>...</td>\n",
       "      <td>...</td>\n",
       "      <td>...</td>\n",
       "      <td>...</td>\n",
       "      <td>...</td>\n",
       "      <td>...</td>\n",
       "      <td>...</td>\n",
       "    </tr>\n",
       "    <tr>\n",
       "      <th>3195</th>\n",
       "      <td>Zombieland</td>\n",
       "      <td>75590286.0</td>\n",
       "      <td>98690286.0</td>\n",
       "      <td>28281155.0</td>\n",
       "      <td>23600000.0</td>\n",
       "      <td>Oct 02 2009</td>\n",
       "      <td>R</td>\n",
       "      <td>87.0</td>\n",
       "      <td>Sony Pictures</td>\n",
       "      <td>Original Screenplay</td>\n",
       "      <td>Comedy</td>\n",
       "      <td>Fantasy</td>\n",
       "      <td>Ruben Fleischer</td>\n",
       "      <td>89.0</td>\n",
       "      <td>7.8</td>\n",
       "      <td>81629.0</td>\n",
       "    </tr>\n",
       "    <tr>\n",
       "      <th>3196</th>\n",
       "      <td>Zack and Miri Make a Porno</td>\n",
       "      <td>31452765.0</td>\n",
       "      <td>36851125.0</td>\n",
       "      <td>21240321.0</td>\n",
       "      <td>24000000.0</td>\n",
       "      <td>Oct 31 2008</td>\n",
       "      <td>R</td>\n",
       "      <td>101.0</td>\n",
       "      <td>Weinstein Co.</td>\n",
       "      <td>Original Screenplay</td>\n",
       "      <td>Comedy</td>\n",
       "      <td>Contemporary Fiction</td>\n",
       "      <td>Kevin Smith</td>\n",
       "      <td>65.0</td>\n",
       "      <td>7.0</td>\n",
       "      <td>55687.0</td>\n",
       "    </tr>\n",
       "    <tr>\n",
       "      <th>3198</th>\n",
       "      <td>Zoom</td>\n",
       "      <td>11989328.0</td>\n",
       "      <td>12506188.0</td>\n",
       "      <td>6679409.0</td>\n",
       "      <td>35000000.0</td>\n",
       "      <td>Aug 11 2006</td>\n",
       "      <td>PG</td>\n",
       "      <td>NaN</td>\n",
       "      <td>Sony Pictures</td>\n",
       "      <td>Based on Comic/Graphic Novel</td>\n",
       "      <td>Adventure</td>\n",
       "      <td>Super Hero</td>\n",
       "      <td>Peter Hewitt</td>\n",
       "      <td>3.0</td>\n",
       "      <td>3.4</td>\n",
       "      <td>7424.0</td>\n",
       "    </tr>\n",
       "    <tr>\n",
       "      <th>3199</th>\n",
       "      <td>The Legend of Zorro</td>\n",
       "      <td>45575336.0</td>\n",
       "      <td>141475336.0</td>\n",
       "      <td>NaN</td>\n",
       "      <td>80000000.0</td>\n",
       "      <td>Oct 28 2005</td>\n",
       "      <td>PG</td>\n",
       "      <td>129.0</td>\n",
       "      <td>Sony Pictures</td>\n",
       "      <td>Remake</td>\n",
       "      <td>Adventure</td>\n",
       "      <td>Historical Fiction</td>\n",
       "      <td>Martin Campbell</td>\n",
       "      <td>26.0</td>\n",
       "      <td>5.7</td>\n",
       "      <td>21161.0</td>\n",
       "    </tr>\n",
       "    <tr>\n",
       "      <th>3200</th>\n",
       "      <td>The Mask of Zorro</td>\n",
       "      <td>93828745.0</td>\n",
       "      <td>233700000.0</td>\n",
       "      <td>NaN</td>\n",
       "      <td>65000000.0</td>\n",
       "      <td>Jul 17 1998</td>\n",
       "      <td>PG-13</td>\n",
       "      <td>136.0</td>\n",
       "      <td>Sony Pictures</td>\n",
       "      <td>Remake</td>\n",
       "      <td>Adventure</td>\n",
       "      <td>Historical Fiction</td>\n",
       "      <td>Martin Campbell</td>\n",
       "      <td>82.0</td>\n",
       "      <td>6.7</td>\n",
       "      <td>4789.0</td>\n",
       "    </tr>\n",
       "  </tbody>\n",
       "</table>\n",
       "<p>2260 rows × 16 columns</p>\n",
       "</div>"
      ],
      "text/plain": [
       "                           Title    US_Gross  Worldwide_Gross  US_DVD_Sales  \\\n",
       "4                           Slam   1009819.0        1087521.0           NaN   \n",
       "8                        Pirates   1641825.0        6341825.0           NaN   \n",
       "9                Duel in the Sun  20400000.0       20400000.0           NaN   \n",
       "10                     Tom Jones  37600000.0       37600000.0           NaN   \n",
       "11                       Oliver!  37402877.0       37402877.0           NaN   \n",
       "...                          ...         ...              ...           ...   \n",
       "3195                  Zombieland  75590286.0       98690286.0    28281155.0   \n",
       "3196  Zack and Miri Make a Porno  31452765.0       36851125.0    21240321.0   \n",
       "3198                        Zoom  11989328.0       12506188.0     6679409.0   \n",
       "3199         The Legend of Zorro  45575336.0      141475336.0           NaN   \n",
       "3200           The Mask of Zorro  93828745.0      233700000.0           NaN   \n",
       "\n",
       "      Production_Budget Release_Date MPAA_Rating  Running_Time_min  \\\n",
       "4             1000000.0  Oct 09 1998           R               NaN   \n",
       "8            40000000.0  Jul 01 1986           R               NaN   \n",
       "9             6000000.0  Dec 31 2046        None               NaN   \n",
       "10            1000000.0  Oct 07 1963        None               NaN   \n",
       "11           10000000.0  Dec 11 1968        None               NaN   \n",
       "...                 ...          ...         ...               ...   \n",
       "3195         23600000.0  Oct 02 2009           R              87.0   \n",
       "3196         24000000.0  Oct 31 2008           R             101.0   \n",
       "3198         35000000.0  Aug 11 2006          PG               NaN   \n",
       "3199         80000000.0  Oct 28 2005          PG             129.0   \n",
       "3200         65000000.0  Jul 17 1998       PG-13             136.0   \n",
       "\n",
       "        Distributor                        Source Major_Genre  \\\n",
       "4           Trimark           Original Screenplay       Drama   \n",
       "8              None                          None        None   \n",
       "9              None                          None        None   \n",
       "10             None                          None        None   \n",
       "11    Sony Pictures                          None     Musical   \n",
       "...             ...                           ...         ...   \n",
       "3195  Sony Pictures           Original Screenplay      Comedy   \n",
       "3196  Weinstein Co.           Original Screenplay      Comedy   \n",
       "3198  Sony Pictures  Based on Comic/Graphic Novel   Adventure   \n",
       "3199  Sony Pictures                        Remake   Adventure   \n",
       "3200  Sony Pictures                        Remake   Adventure   \n",
       "\n",
       "             Creative_Type         Director  Rotten_Tomatoes_Rating  \\\n",
       "4     Contemporary Fiction             None                    62.0   \n",
       "8                     None   Roman Polanski                    25.0   \n",
       "9                     None             None                    86.0   \n",
       "10                    None             None                    81.0   \n",
       "11                    None             None                    84.0   \n",
       "...                    ...              ...                     ...   \n",
       "3195               Fantasy  Ruben Fleischer                    89.0   \n",
       "3196  Contemporary Fiction      Kevin Smith                    65.0   \n",
       "3198            Super Hero     Peter Hewitt                     3.0   \n",
       "3199    Historical Fiction  Martin Campbell                    26.0   \n",
       "3200    Historical Fiction  Martin Campbell                    82.0   \n",
       "\n",
       "      IMDB_Rating  IMDB_Votes  \n",
       "4             3.4       165.0  \n",
       "8             5.8      3275.0  \n",
       "9             7.0      2906.0  \n",
       "10            7.0      4035.0  \n",
       "11            7.5      9111.0  \n",
       "...           ...         ...  \n",
       "3195          7.8     81629.0  \n",
       "3196          7.0     55687.0  \n",
       "3198          3.4      7424.0  \n",
       "3199          5.7     21161.0  \n",
       "3200          6.7      4789.0  \n",
       "\n",
       "[2260 rows x 16 columns]"
      ]
     },
     "metadata": {},
     "output_type": "display_data"
    }
   ],
   "source": [
    "# TODO: Implement the functionality mentioned above \n",
    "# The following code is just a dummy. You should load the correct dataset from vega_datasets package. \n",
    "movie_db = vega_datasets.data.movies()\n",
    "movies = movie_db.dropna(subset=['IMDB_Rating', 'IMDB_Votes', 'Rotten_Tomatoes_Rating'])\n",
    "display(movies)"
   ]
  },
  {
   "cell_type": "markdown",
   "id": "0433f5ce-d52c-4539-b23c-afbe20674bc6",
   "metadata": {
    "id": "yFKbNLzIFdDP"
   },
   "source": [
    "If you simply call `hist()` method with a dataframe object, it identifies all the numeric columns and draws a histogram for each column. \n",
    "\n",
    "**Q: draw all possible histograms of the movie dataframe. Adjust the size of the plots if needed.**"
   ]
  },
  {
   "cell_type": "code",
   "execution_count": 39,
   "id": "046ee97d-ee1e-4d5c-a53f-eca13864dab7",
   "metadata": {
    "collapsed": false,
    "id": "HhNb318iFdDP",
    "jupyter": {
     "outputs_hidden": false
    },
    "outputId": "7c5d1f5b-0bc1-4998-e427-98276c924982"
   },
   "outputs": [
    {
     "data": {
      "text/plain": [
       "array([[<AxesSubplot:title={'center':'US_Gross'}>,\n",
       "        <AxesSubplot:title={'center':'Worldwide_Gross'}>,\n",
       "        <AxesSubplot:title={'center':'US_DVD_Sales'}>],\n",
       "       [<AxesSubplot:title={'center':'Production_Budget'}>,\n",
       "        <AxesSubplot:title={'center':'Running_Time_min'}>,\n",
       "        <AxesSubplot:title={'center':'Rotten_Tomatoes_Rating'}>],\n",
       "       [<AxesSubplot:title={'center':'IMDB_Rating'}>,\n",
       "        <AxesSubplot:title={'center':'IMDB_Votes'}>, <AxesSubplot:>]],\n",
       "      dtype=object)"
      ]
     },
     "execution_count": 39,
     "metadata": {},
     "output_type": "execute_result"
    },
    {
     "data": {
      "image/png": "[encoded data removed]",
      "text/plain": [
       "<Figure size 1080x1080 with 9 Axes>"
      ]
     },
     "metadata": {
      "needs_background": "light"
     },
     "output_type": "display_data"
    }
   ],
   "source": [
    "# Implement\n",
    "movies.hist(figsize=(15, 15))"
   ]
  },
  {
   "cell_type": "markdown",
   "id": "55b79a1c-a6ff-4bcb-9a70-14da8cd795ba",
   "metadata": {
    "id": "ndkDy0fcFdDQ"
   },
   "source": [
    "As we can see, a majority of the columns are not normally distributed. In particular, if you look at the worldwide gross variable, you only see a couple of meaningful data from the histogram. Is this a problem of resolution? How about increasing the number of bins?"
   ]
  },
  {
   "cell_type": "code",
   "execution_count": 80,
   "id": "f79386d8-6024-415c-9b84-0b387953c981",
   "metadata": {
    "id": "78aPqskwFdDQ",
    "outputId": "25d04104-1293-4d0c-9cff-36822aa40264"
   },
   "outputs": [
    {
     "data": {
      "text/plain": [
       "Text(0, 0.5, 'Frequency')"
      ]
     },
     "execution_count": 80,
     "metadata": {},
     "output_type": "execute_result"
    },
    {
     "data": {
      "image/png": "[encoded data removed]",
      "text/plain": [
       "<Figure size 432x288 with 1 Axes>"
      ]
     },
     "metadata": {
      "needs_background": "light"
     },
     "output_type": "display_data"
    }
   ],
   "source": [
    "ax = movies[\"Worldwide_Gross\"].hist(bins=200)\n",
    "ax.set_xlabel(\"World wide gross\")\n",
    "ax.set_ylabel(\"Frequency\")"
   ]
  },
  {
   "cell_type": "markdown",
   "id": "b9d2912f-0503-4dfd-94e8-53ad236f0ef6",
   "metadata": {
    "id": "hBwec0zvFdDQ"
   },
   "source": [
    "Maybe a bit more useful, but it doesn't tell anything about the data distribution above certain point. How about changing the vertical scale to logarithmic scale?"
   ]
  },
  {
   "cell_type": "code",
   "execution_count": 41,
   "id": "a8b67cc0-081e-469e-9b75-2977f09d1b14",
   "metadata": {
    "id": "h2FpYMdrFdDR",
    "outputId": "7e3800d1-ff9a-41d7-b1bc-19f909cf3638"
   },
   "outputs": [
    {
     "data": {
      "text/plain": [
       "Text(0, 0.5, 'Frequency')"
      ]
     },
     "execution_count": 41,
     "metadata": {},
     "output_type": "execute_result"
    },
    {
     "data": {
      "image/png": "[encoded data removed]",
      "text/plain": [
       "<Figure size 432x288 with 1 Axes>"
      ]
     },
     "metadata": {
      "needs_background": "light"
     },
     "output_type": "display_data"
    }
   ],
   "source": [
    "ax = movies[\"Worldwide_Gross\"].hist(bins=200)\n",
    "ax.set_yscale('log')\n",
    "ax.set_xlabel(\"World wide gross\")\n",
    "ax.set_ylabel(\"Frequency\")"
   ]
  },
  {
   "cell_type": "markdown",
   "id": "5ca240bd-8a91-42f2-a809-cfa72345a37d",
   "metadata": {
    "id": "zxUO951uFdDR"
   },
   "source": [
    "Now, let's try log-bin. Recall that when plotting histgrams we can specify the edges of bins through the `bins` parameter. For example, we can specify the edges of bins to [1, 2, 3, ... , 10] as follows.\n"
   ]
  },
  {
   "cell_type": "code",
   "execution_count": 42,
   "id": "29ad87ce-975c-4bbb-bdba-08219aabeb4f",
   "metadata": {
    "collapsed": false,
    "id": "ev0LG9AgFdDR",
    "jupyter": {
     "outputs_hidden": false
    },
    "outputId": "285eee3a-2c6f-4f65-bb31-c6b74a0198ee"
   },
   "outputs": [
    {
     "data": {
      "text/plain": [
       "<AxesSubplot:>"
      ]
     },
     "execution_count": 42,
     "metadata": {},
     "output_type": "execute_result"
    },
    {
     "data": {
      "image/png": "[encoded data removed]",
      "text/plain": [
       "<Figure size 432x288 with 1 Axes>"
      ]
     },
     "metadata": {
      "needs_background": "light"
     },
     "output_type": "display_data"
    }
   ],
   "source": [
    "movies[\"IMDB_Rating\"].hist(bins=range(0,11))"
   ]
  },
  {
   "cell_type": "markdown",
   "id": "29159f46-30d7-4921-a96b-9550684f893d",
   "metadata": {
    "id": "yqGdymRVFdDS"
   },
   "source": [
    "Here, we can specify the edges of bins in a similar way. Instead of specifying on the linear scale, we do it on the log space. Some useful resources:\n",
    "\n",
    "* [numpy.logspace](http://docs.scipy.org/doc/numpy/reference/generated/numpy.logspace.html)\n",
    "* [numpy.linspace vs numpy.logspace](http://stackoverflow.com/questions/31480033/difference-in-output-between-numpy-linspace-and-numpy-logspace)\n",
    "\n",
    "Hint: since $10^{\\text{start}} = \\text{min(Worldwide_Gross)}$, $\\text{start} = \\log_{10}(\\text{min(Worldwide_Gross)})$"
   ]
  },
  {
   "cell_type": "code",
   "execution_count": 43,
   "id": "bb6100a1-0479-499b-8c63-cf22562f42f6",
   "metadata": {
    "id": "DhrElVC1FdDS",
    "outputId": "68e35f9c-f653-4968-d859-c5802b011ebc"
   },
   "outputs": [
    {
     "data": {
      "text/plain": [
       "0.0"
      ]
     },
     "execution_count": 43,
     "metadata": {},
     "output_type": "execute_result"
    }
   ],
   "source": [
    "min(movies[\"Worldwide_Gross\"])"
   ]
  },
  {
   "cell_type": "markdown",
   "id": "9e5ab4bf-16b3-4201-bcd2-8f81ae4a9dff",
   "metadata": {
    "id": "syjfeVu4FdDS"
   },
   "source": [
    "Because there seems to be movie(s) that made $0, and because log(0) is undefined & log(1) = 0, let's add 1 to the variable.  "
   ]
  },
  {
   "cell_type": "code",
   "execution_count": 44,
   "id": "9dd940c6-620f-4e6f-b590-9bcd7b392745",
   "metadata": {
    "id": "ENVL7YZrFdDT"
   },
   "outputs": [
    {
     "name": "stderr",
     "output_type": "stream",
     "text": [
      "C:\\Users\\Viniele\\AppData\\Local\\Temp\\ipykernel_11556\\1612897910.py:1: SettingWithCopyWarning: \n",
      "A value is trying to be set on a copy of a slice from a DataFrame.\n",
      "Try using .loc[row_indexer,col_indexer] = value instead\n",
      "\n",
      "See the caveats in the documentation: https://pandas.pydata.org/pandas-docs/stable/user_guide/indexing.html#returning-a-view-versus-a-copy\n",
      "  movies[\"Worldwide_Gross\"] = movies[\"Worldwide_Gross\"]+1.0\n"
     ]
    }
   ],
   "source": [
    "movies[\"Worldwide_Gross\"] = movies[\"Worldwide_Gross\"]+1.0"
   ]
  },
  {
   "cell_type": "code",
   "execution_count": 74,
   "id": "f56e24cb-895d-4abc-ad88-c879d7b99bdc",
   "metadata": {
    "id": "OjHiC3_-FdDT",
    "outputId": "779b390c-9a02-4337-c540-ca85776549a7"
   },
   "outputs": [
    {
     "data": {
      "text/plain": [
       "array([1.00000000e+00, 3.14018485e+00, 9.86076088e+00, 3.09646119e+01,\n",
       "       9.72346052e+01, 3.05334634e+02, 9.58807191e+02, 3.01083182e+03,\n",
       "       9.45456845e+03, 2.96890926e+04, 9.32292387e+04, 2.92757043e+05,\n",
       "       9.19311230e+05, 2.88680720e+06, 9.06510822e+06, 2.84661155e+07,\n",
       "       8.93888645e+07, 2.80697558e+08, 8.81442219e+08, 2.76789150e+09])"
      ]
     },
     "execution_count": 74,
     "metadata": {},
     "output_type": "execute_result"
    }
   ],
   "source": [
    "# TODO: Replace the dummy value of bins using np.logspace.  \n",
    "# Create 20 bins that cover the whole range of the dataset. \n",
    "bins = np.logspace(start=np.log10(min(movies[\"Worldwide_Gross\"])), stop=np.log10(max(movies[\"Worldwide_Gross\"])), num=20)\n",
    "bins"
   ]
  },
  {
   "cell_type": "markdown",
   "id": "2934c3bb-12a5-44a0-9c2e-a7922632451f",
   "metadata": {
    "id": "2MoKtVlnFdDT"
   },
   "source": [
    "Now we can plot a histogram with log-bin. Set both axis to be log-scale. "
   ]
  },
  {
   "cell_type": "code",
   "execution_count": 77,
   "id": "c7332544-6ecc-414d-8b58-346bc2ea10a5",
   "metadata": {
    "collapsed": false,
    "id": "TemQE6UBFdDU",
    "jupyter": {
     "outputs_hidden": false
    },
    "outputId": "d40f0704-4fe9-4f60-a009-bb19484a86c0"
   },
   "outputs": [
    {
     "data": {
      "text/plain": [
       "Text(0, 0.5, 'Frequency')"
      ]
     },
     "execution_count": 77,
     "metadata": {},
     "output_type": "execute_result"
    },
    {
     "data": {
      "image/png": "[encoded data removed]",
      "text/plain": [
       "<Figure size 576x576 with 1 Axes>"
      ]
     },
     "metadata": {
      "needs_background": "light"
     },
     "output_type": "display_data"
    }
   ],
   "source": [
    "ax = (movies[\"Worldwide_Gross\"]+1.0).hist(bins=bins, figsize=(8, 8))\n",
    "ax.set_yscale('log')\n",
    "ax.set_xscale('log')\n",
    "ax.set_xlabel(\"World wide gross\")\n",
    "ax.set_ylabel(\"Frequency\")"
   ]
  },
  {
   "cell_type": "markdown",
   "id": "fe56ba45-6603-47b2-b921-ff5d9070483d",
   "metadata": {
    "id": "pJZ-2b3sFdDU"
   },
   "source": [
    "What is going on? Is this the right plot?\n",
    "\n",
    "**Q: explain and fix**"
   ]
  },
  {
   "cell_type": "code",
   "execution_count": 83,
   "id": "8313d2b3-36ee-48b3-8374-3fb22f38a7e7",
   "metadata": {
    "collapsed": false,
    "id": "sUp01d71FdDU",
    "jupyter": {
     "outputs_hidden": false
    },
    "outputId": "51137617-ec14-45ec-d965-d02bba69922c"
   },
   "outputs": [
    {
     "data": {
      "text/plain": [
       "Text(0, 0.5, 'Frequency')"
      ]
     },
     "execution_count": 83,
     "metadata": {},
     "output_type": "execute_result"
    },
    {
     "data": {
      "image/png": "[encoded data removed]",
      "text/plain": [
       "<Figure size 576x576 with 1 Axes>"
      ]
     },
     "metadata": {
      "needs_background": "light"
     },
     "output_type": "display_data"
    }
   ],
   "source": [
    "# Implement\n",
    "ax = (movies[\"Worldwide_Gross\"]+1.0).hist(bins=bins, density=True ,figsize=(8, 8))\n",
    "ax.set_yscale('log')\n",
    "ax.set_xscale('log')\n",
    "ax.set_xlabel(\"World wide gross\")\n",
    "ax.set_ylabel(\"Frequency\")"
   ]
  },
  {
   "cell_type": "markdown",
   "id": "21ad9c96-eb31-4d10-a656-0c5e776505f5",
   "metadata": {
    "id": "IqrM7ufNFdDU"
   },
   "source": [
    "**Q: Can you explain the plot? Why are there gaps?**"
   ]
  },
  {
   "cell_type": "code",
   "execution_count": null,
   "id": "86aaaf1a-266c-434e-935d-852d11764051",
   "metadata": {
    "id": "bqFunZ08FdDV"
   },
   "outputs": [],
   "source": []
  },
  {
   "cell_type": "markdown",
   "id": "8ab07e2d-3929-4567-b68c-0b1ffb033586",
   "metadata": {
    "id": "2w70ZBBFFdDV"
   },
   "source": [
    "## CCDF\n",
    "\n",
    "CCDF is a nice alternative to examine distributions with heavy tails. The idea is same as CDF, but the direction of aggregation is opposite. For a given value x, CCDF(x) is the number (fraction) of data points that are same or larger than x. To write code to draw CCDF, it'll be helpful to draw it by hand by using a very small, toy dataset. Draw it by hand and then think about how each point in the CCDF plot can be computed. \n",
    "\n",
    "**Q: Draw a CCDF of worldwide gross data in log-log scale**"
   ]
  },
  {
   "cell_type": "code",
   "execution_count": null,
   "id": "e2222974-2d84-4c0e-acbf-16961a51a940",
   "metadata": {
    "id": "bjgKDyA4FdDV",
    "outputId": "b06e242e-a2c0-49f7-b4c5-5202ffedc5da"
   },
   "outputs": [
    {
     "data": {
      "image/png": "[encoded data removed]",
      "text/plain": [
       "<Figure size 432x288 with 1 Axes>"
      ]
     },
     "metadata": {
      "needs_background": "light",
      "tags": []
     },
     "output_type": "display_data"
    }
   ],
   "source": [
    "# TODO: Implement functionality mentioned above\n",
    "# You must replace the dummy values with the correct code. \n",
    "worldgross_sorted = np.random.sample(200)\n",
    "Y = np.random.sample(200)"
   ]
  },
  {
   "cell_type": "markdown",
   "id": "374f7855-e25b-408d-bb96-b7aa8f71c329",
   "metadata": {
    "id": "ODq6ng4nFdDV"
   },
   "source": [
    "We can also try in semilog scale (only one axis is in a log-scale), where the horizontal axis is linear. "
   ]
  },
  {
   "cell_type": "code",
   "execution_count": null,
   "id": "e712ef8d-b06e-4576-8a65-dd333642f9bd",
   "metadata": {
    "id": "IWO1Rr3QFdDW",
    "outputId": "6784cca4-64f4-45c4-b68e-e8de690f6422"
   },
   "outputs": [
    {
     "data": {
      "image/png": "[encoded data removed]",
      "text/plain": [
       "<Figure size 432x288 with 1 Axes>"
      ]
     },
     "metadata": {
      "needs_background": "light",
      "tags": []
     },
     "output_type": "display_data"
    }
   ],
   "source": [
    "plt.xlabel(\"World wide gross\")\n",
    "plt.ylabel(\"CCDF\")\n",
    "plt.plot(worldgross_sorted,Y)\n",
    "plt.yscale('log')"
   ]
  },
  {
   "cell_type": "markdown",
   "id": "0dcd29cd-48a0-4328-aad9-bb4b093af1ed",
   "metadata": {
    "id": "KsJNpR2iFdDW"
   },
   "source": [
    "A straight line in semilog scale means exponential decay (cf. a straight line in log-log scale means power-law decay). So it seems like the amount of money a movie makes across the world follows *roughly* an exponential distribution, while there are some outliers that make insane amount of money. \n",
    "\n",
    "**Q: Which is the most successful movie in our dataset?**\n",
    "\n",
    "You can use the following\n",
    "\n",
    "- `idxmax()`: https://pandas.pydata.org/pandas-docs/stable/generated/pandas.DataFrame.idxmax.html\n",
    "- `loc`: https://pandas.pydata.org/pandas-docs/stable/generated/pandas.DataFrame.loc.html"
   ]
  },
  {
   "cell_type": "code",
   "execution_count": null,
   "id": "f73839fa-757b-4afa-aeff-c41502fd11fa",
   "metadata": {
    "id": "31LoBnxvFdDW",
    "outputId": "cd65c18e-168e-4168-8393-ff07aa3f89f2"
   },
   "outputs": [
    {
     "data": {
      "text/plain": [
       "Title                                  Avatar\n",
       "US Gross                          7.60168e+08\n",
       "Worldwide Gross                   2.76789e+09\n",
       "US DVD Sales                      1.46154e+08\n",
       "Production Budget                    2.37e+08\n",
       "Release Date                      Dec 18 2009\n",
       "MPAA Rating                             PG-13\n",
       "Running Time min                          NaN\n",
       "Distributor                  20th Century Fox\n",
       "Source                    Original Screenplay\n",
       "Major Genre                            Action\n",
       "Creative Type                 Science Fiction\n",
       "Director                        James Cameron\n",
       "Rotten Tomatoes Rating                     83\n",
       "IMDB Rating                               8.3\n",
       "IMDB Votes                             261439\n",
       "Name: 1234, dtype: object"
      ]
     },
     "execution_count": 17,
     "metadata": {
      "tags": []
     },
     "output_type": "execute_result"
    }
   ],
   "source": [
    "# Implement\n"
   ]
  },
  {
   "cell_type": "markdown",
   "id": "baa92247-c8a4-493b-b5c1-308892251723",
   "metadata": {
    "id": "eRh9820HFdDX"
   },
   "source": [
    "# Paired t-test"
   ]
  },
  {
   "cell_type": "markdown",
   "id": "fd278a50-375d-4f72-893a-41a8e102bdc7",
   "metadata": {},
   "source": [
    "- Dependencies: scipy pandas seaborn pingouin"
   ]
  },
  {
   "cell_type": "code",
   "execution_count": null,
   "id": "2e176a67-b418-482d-bc0f-5ab467a0f59e",
   "metadata": {},
   "outputs": [],
   "source": [
    "import pandas as pd\n",
    "import scipy.stats as stats\n",
    "import pingouin as pg"
   ]
  },
  {
   "cell_type": "markdown",
   "id": "c09988a6-7ef7-4a20-8f57-7f53523508c5",
   "metadata": {},
   "source": [
    "__Paired Sample T-test__\n",
    "\n",
    "The paired sample t-test is also known as the dependent sample t-test, and paired t-test. This type of t-test compares two averages (means) and will give you information if the difference between these two averages are zero. In a paired sample t-test, each participant is measured twice, which results in pairs of observations. The t-test also tells you whether the differences are statistically significant. In other words it lets you know if those differences could have happened by chance.\n",
    "\n",
    "__Q: When to use this test?__\n",
    "\n",
    "For example, if clinical psychologists want to test whether a  treatment for depression will change the quality of life, they might set up an experiment. In this experiment, they will collect information about the participants’ quality of life before the intervention. They are conducting a pre- and post-test study. In the pre-test the average quality of life might be 3, while in the post-test the average quality of life might be  5. Numerically, we could think that the treatment is working. However, it could be due to a fluke and, in order to test this, the clinical researchers can use the paired sample t-test. \n",
    "\n",
    "__Hypotheses__\n",
    "\n",
    "Now, when performing dependent sample t-tests you typically have the following two hypotheses:\n",
    "\n",
    "1. Null hypotheses: the true mean difference is equal to zero (between the observations), i.e. the means are equal;\n",
    "2. Alternative hypotheses: the true mean difference is not equal to zero (two-tailed), i.e. the means are different.\n",
    "\n",
    "Note, in some cases we also may have a specific idea, based on theory, about the direction of the measured effect. For example, we may strongly believe (due to previous research and/or theory) that a specific intervention should have a positive effect. In such a case, the alternative hypothesis will be something like: the true mean difference is greater than zero (one-tailed). Note, it can also be smaller than zero, of course. \n",
    "\n",
    "__Assumptions__\n",
    "\n",
    "Besides that the dependent variable is on interval/ratio scale, and is continuous, there are three assumptions that need to be met:\n",
    "1. Are the two samples independent?\n",
    "2. Does the data, i.e., the differences for the matched-pairs, follow a normal distribution?\n",
    "3. Do the two samples have the same variances?\n",
    "\n",
    "If your data is not following a normal distribution you can  transform your dependent variable using square root, log, or Box-Cox in Python. In the next section, we will import data."
   ]
  },
  {
   "cell_type": "markdown",
   "id": "48b15aec-013a-4b6c-b1b4-cc18b79d3233",
   "metadata": {},
   "source": [
    "## data"
   ]
  },
  {
   "cell_type": "code",
   "execution_count": 2,
   "id": "2c8be03c-6b6d-4f36-af23-eb89708fc21a",
   "metadata": {
    "execution": {
     "iopub.execute_input": "2022-05-03T10:23:43.349515Z",
     "iopub.status.busy": "2022-05-03T10:23:43.349227Z",
     "iopub.status.idle": "2022-05-03T10:23:43.694476Z",
     "shell.execute_reply": "2022-05-03T10:23:43.693778Z",
     "shell.execute_reply.started": "2022-05-03T10:23:43.349495Z"
    }
   },
   "outputs": [
    {
     "data": {
      "text/html": [
       "<div>\n",
       "<style scoped>\n",
       "    .dataframe tbody tr th:only-of-type {\n",
       "        vertical-align: middle;\n",
       "    }\n",
       "\n",
       "    .dataframe tbody tr th {\n",
       "        vertical-align: top;\n",
       "    }\n",
       "\n",
       "    .dataframe thead th {\n",
       "        text-align: right;\n",
       "    }\n",
       "</style>\n",
       "<table border=\"1\" class=\"dataframe\">\n",
       "  <thead>\n",
       "    <tr style=\"text-align: right;\">\n",
       "      <th></th>\n",
       "      <th>grouping</th>\n",
       "      <th>height</th>\n",
       "    </tr>\n",
       "  </thead>\n",
       "  <tbody>\n",
       "    <tr>\n",
       "      <th>0</th>\n",
       "      <td>men</td>\n",
       "      <td>181.5</td>\n",
       "    </tr>\n",
       "    <tr>\n",
       "      <th>1</th>\n",
       "      <td>men</td>\n",
       "      <td>187.3</td>\n",
       "    </tr>\n",
       "    <tr>\n",
       "      <th>2</th>\n",
       "      <td>men</td>\n",
       "      <td>175.3</td>\n",
       "    </tr>\n",
       "    <tr>\n",
       "      <th>3</th>\n",
       "      <td>men</td>\n",
       "      <td>178.3</td>\n",
       "    </tr>\n",
       "    <tr>\n",
       "      <th>4</th>\n",
       "      <td>men</td>\n",
       "      <td>169.0</td>\n",
       "    </tr>\n",
       "  </tbody>\n",
       "</table>\n",
       "</div>"
      ],
      "text/plain": [
       "  grouping  height\n",
       "0      men   181.5\n",
       "1      men   187.3\n",
       "2      men   175.3\n",
       "3      men   178.3\n",
       "4      men   169.0"
      ]
     },
     "execution_count": 2,
     "metadata": {},
     "output_type": "execute_result"
    }
   ],
   "source": [
    "data = 'https://gist.githubusercontent.com/baskaufs/1a7a995c1b25d6e88b45/raw/4bb17ccc5c1e62c27627833a4f25380f27d30b35/t-test.csv'\n",
    "df = pd.read_csv(data)\n",
    "\n",
    "df.head()"
   ]
  },
  {
   "cell_type": "code",
   "execution_count": 3,
   "id": "36ba5a69-af1f-4cb0-a97c-30c16a75cb2a",
   "metadata": {
    "execution": {
     "iopub.execute_input": "2022-05-03T10:23:45.184914Z",
     "iopub.status.busy": "2022-05-03T10:23:45.184646Z",
     "iopub.status.idle": "2022-05-03T10:23:45.230379Z",
     "shell.execute_reply": "2022-05-03T10:23:45.229762Z",
     "shell.execute_reply.started": "2022-05-03T10:23:45.184889Z"
    }
   },
   "outputs": [],
   "source": [
    "# subset the data\n",
    "male = df.query('grouping == \"men\"')['height']\n",
    "female = df.query('grouping == \"women\"')['height']"
   ]
  },
  {
   "cell_type": "markdown",
   "id": "3abd4520-9bb3-460e-829e-3e46cd627de9",
   "metadata": {},
   "source": [
    "__Descriptive statistics__: use the groupby method together with the describe method to calculate summary statistics. As we are interested in the difference between ‘A’ and ‘B’, in the dataset, we used ‘grouping’ as input to the groupby method."
   ]
  },
  {
   "cell_type": "code",
   "execution_count": 5,
   "id": "5cfd7bb3-f279-42c2-9f78-567a807040dd",
   "metadata": {},
   "outputs": [
    {
     "data": {
      "text/html": [
       "<div>\n",
       "<style scoped>\n",
       "    .dataframe tbody tr th:only-of-type {\n",
       "        vertical-align: middle;\n",
       "    }\n",
       "\n",
       "    .dataframe tbody tr th {\n",
       "        vertical-align: top;\n",
       "    }\n",
       "\n",
       "    .dataframe thead tr th {\n",
       "        text-align: left;\n",
       "    }\n",
       "\n",
       "    .dataframe thead tr:last-of-type th {\n",
       "        text-align: right;\n",
       "    }\n",
       "</style>\n",
       "<table border=\"1\" class=\"dataframe\">\n",
       "  <thead>\n",
       "    <tr>\n",
       "      <th></th>\n",
       "      <th colspan=\"8\" halign=\"left\">height</th>\n",
       "    </tr>\n",
       "    <tr>\n",
       "      <th></th>\n",
       "      <th>count</th>\n",
       "      <th>mean</th>\n",
       "      <th>std</th>\n",
       "      <th>min</th>\n",
       "      <th>25%</th>\n",
       "      <th>50%</th>\n",
       "      <th>75%</th>\n",
       "      <th>max</th>\n",
       "    </tr>\n",
       "    <tr>\n",
       "      <th>grouping</th>\n",
       "      <th></th>\n",
       "      <th></th>\n",
       "      <th></th>\n",
       "      <th></th>\n",
       "      <th></th>\n",
       "      <th></th>\n",
       "      <th></th>\n",
       "      <th></th>\n",
       "    </tr>\n",
       "  </thead>\n",
       "  <tbody>\n",
       "    <tr>\n",
       "      <th>men</th>\n",
       "      <td>7.0</td>\n",
       "      <td>179.871429</td>\n",
       "      <td>6.216836</td>\n",
       "      <td>169.0</td>\n",
       "      <td>176.80</td>\n",
       "      <td>181.5</td>\n",
       "      <td>183.85</td>\n",
       "      <td>187.3</td>\n",
       "    </tr>\n",
       "    <tr>\n",
       "      <th>women</th>\n",
       "      <td>7.0</td>\n",
       "      <td>171.057143</td>\n",
       "      <td>5.697619</td>\n",
       "      <td>165.2</td>\n",
       "      <td>166.65</td>\n",
       "      <td>170.3</td>\n",
       "      <td>173.75</td>\n",
       "      <td>181.1</td>\n",
       "    </tr>\n",
       "  </tbody>\n",
       "</table>\n",
       "</div>"
      ],
      "text/plain": [
       "         height                                                           \n",
       "          count        mean       std    min     25%    50%     75%    max\n",
       "grouping                                                                  \n",
       "men         7.0  179.871429  6.216836  169.0  176.80  181.5  183.85  187.3\n",
       "women       7.0  171.057143  5.697619  165.2  166.65  170.3  173.75  181.1"
      ]
     },
     "execution_count": 5,
     "metadata": {},
     "output_type": "execute_result"
    }
   ],
   "source": [
    "df.groupby('grouping').describe()"
   ]
  },
  {
   "cell_type": "markdown",
   "id": "bb1193f6-4163-49bf-96f6-c7e60a2b82af",
   "metadata": {},
   "source": [
    "## Two-Sample T-Test with Pingouin"
   ]
  },
  {
   "cell_type": "code",
   "execution_count": 4,
   "id": "a8c3a9af-bc3d-4ae9-9c63-55c29930b03f",
   "metadata": {
    "execution": {
     "iopub.execute_input": "2022-05-03T10:23:50.349752Z",
     "iopub.status.busy": "2022-05-03T10:23:50.349496Z",
     "iopub.status.idle": "2022-05-03T10:23:50.374882Z",
     "shell.execute_reply": "2022-05-03T10:23:50.374131Z",
     "shell.execute_reply.started": "2022-05-03T10:23:50.349728Z"
    }
   },
   "outputs": [
    {
     "data": {
      "text/html": [
       "<div>\n",
       "<style scoped>\n",
       "    .dataframe tbody tr th:only-of-type {\n",
       "        vertical-align: middle;\n",
       "    }\n",
       "\n",
       "    .dataframe tbody tr th {\n",
       "        vertical-align: top;\n",
       "    }\n",
       "\n",
       "    .dataframe thead th {\n",
       "        text-align: right;\n",
       "    }\n",
       "</style>\n",
       "<table border=\"1\" class=\"dataframe\">\n",
       "  <thead>\n",
       "    <tr style=\"text-align: right;\">\n",
       "      <th></th>\n",
       "      <th>T</th>\n",
       "      <th>dof</th>\n",
       "      <th>alternative</th>\n",
       "      <th>p-val</th>\n",
       "      <th>CI95%</th>\n",
       "      <th>cohen-d</th>\n",
       "      <th>BF10</th>\n",
       "      <th>power</th>\n",
       "    </tr>\n",
       "  </thead>\n",
       "  <tbody>\n",
       "    <tr>\n",
       "      <th>T-test</th>\n",
       "      <td>2.85249</td>\n",
       "      <td>6</td>\n",
       "      <td>two-sided</td>\n",
       "      <td>0.029087</td>\n",
       "      <td>[1.25, 16.38]</td>\n",
       "      <td>1.478192</td>\n",
       "      <td>2.973</td>\n",
       "      <td>0.899761</td>\n",
       "    </tr>\n",
       "  </tbody>\n",
       "</table>\n",
       "</div>"
      ],
      "text/plain": [
       "              T  dof alternative     p-val          CI95%   cohen-d   BF10  \\\n",
       "T-test  2.85249    6   two-sided  0.029087  [1.25, 16.38]  1.478192  2.973   \n",
       "\n",
       "           power  \n",
       "T-test  0.899761  "
      ]
     },
     "execution_count": 4,
     "metadata": {},
     "output_type": "execute_result"
    }
   ],
   "source": [
    "pg.ttest(male, female, paired=True)"
   ]
  },
  {
   "cell_type": "markdown",
   "id": "c6b45df5-489f-4598-a2fc-bc1cf702a22e",
   "metadata": {},
   "source": [
    "- Interpreting the P-value\n",
    "\n",
    "Now, the p-value of the test is 0.029087, which is less than the significance level alpha (e.g., 0.05). Furthermore, this means that we can conclude that the men’s average height is statistically different from the female’s average height. \n",
    "\n",
    "Specifically, a p-value is a probability of obtaining an effect at least as extreme as the one in the data you have obtained (i.e., your sample), assuming that the null hypothesis is true. Moreover, p-values address only one question which is concerned about how likely your collected data is, assuming a true null hypothesis? Importantly, it cannot be used as support for the alternative hypothesis.\n",
    "\n",
    "- Interpreting the Effect Size (Cohen’s D)\n",
    "\n",
    "One common way to interpret Cohen’s D that is obtained in a t-test is in terms of the relative strength of e.g. the condition. Cohen (1988) suggested that d=0.2 should be considered a ‘small’ effect size, 0.5 is a ‘medium’ effect size, and that 0.8 is a ‘large’ effect size. This means that if two groups’ means don’t differ by 0.2 standard deviations or more, the difference is trivial, even if it is statistically significant."
   ]
  },
  {
   "cell_type": "markdown",
   "id": "0d3d86cf-f643-4591-a737-1b067e644ade",
   "metadata": {},
   "source": [
    "![interpret ttest](c09_pingouin_two_samples_t-test_Python.jpeg)"
   ]
  },
  {
   "cell_type": "markdown",
   "id": "aaa575e2-8e61-463f-8059-783383f370da",
   "metadata": {},
   "source": [
    "## Draw the data"
   ]
  },
  {
   "cell_type": "code",
   "execution_count": 8,
   "id": "adb63139-75b2-42f9-8459-6a92e1f25f4f",
   "metadata": {
    "execution": {
     "iopub.execute_input": "2022-05-03T10:29:09.728713Z",
     "iopub.status.busy": "2022-05-03T10:29:09.728412Z",
     "iopub.status.idle": "2022-05-03T10:29:09.843367Z",
     "shell.execute_reply": "2022-05-03T10:29:09.842400Z",
     "shell.execute_reply.started": "2022-05-03T10:29:09.728686Z"
    },
    "tags": []
   },
   "outputs": [
    {
     "data": {
      "image/png": "[encoded data removed]",
      "text/plain": [
       "<Figure size 432x288 with 1 Axes>"
      ]
     },
     "metadata": {
      "needs_background": "light"
     },
     "output_type": "display_data"
    }
   ],
   "source": [
    "import seaborn as sns\n",
    "sns.boxplot(x='grouping', y='height', data=df);"
   ]
  },
  {
   "cell_type": "markdown",
   "id": "455cca4b-c9b2-4bdc-b6b1-345e9d36890e",
   "metadata": {},
   "source": [
    "Knowing this, revisit the task of comparing different algorithms, take into account individual parameter settings."
   ]
  },
  {
   "cell_type": "code",
   "execution_count": null,
   "id": "46f2dc26-5bfe-4bec-b54d-b7c7cae9aec9",
   "metadata": {},
   "outputs": [],
   "source": [
    "# answer"
   ]
  }
 ],
 "metadata": {
  "kernelspec": {
   "display_name": "Python 3 (ipykernel)",
   "language": "python",
   "name": "python3"
  },
  "language_info": {
   "codemirror_mode": {
    "name": "ipython",
    "version": 3
   },
   "file_extension": ".py",
   "mimetype": "text/x-python",
   "name": "python",
   "nbconvert_exporter": "python",
   "pygments_lexer": "ipython3",
   "version": "3.9.13"
  }
 },
 "nbformat": 4,
 "nbformat_minor": 5
}
