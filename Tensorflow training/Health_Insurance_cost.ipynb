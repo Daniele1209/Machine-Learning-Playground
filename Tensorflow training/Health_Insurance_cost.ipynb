{
 "metadata": {
  "kernelspec": {
   "language": "python",
   "display_name": "Python 3",
   "name": "python3"
  },
  "language_info": {
   "name": "python",
   "version": "3.7.10",
   "mimetype": "text/x-python",
   "codemirror_mode": {
    "name": "ipython",
    "version": 3
   },
   "pygments_lexer": "ipython3",
   "nbconvert_exporter": "python",
   "file_extension": ".py"
  }
 },
 "nbformat_minor": 4,
 "nbformat": 4,
 "cells": [
  {
   "cell_type": "markdown",
   "source": [
    "# Medical Cost\n",
    "* Building a regression neural network to make predictions on personal medical cost using [this](https://www.kaggle.com/mirichoi0218/insurance) dataset from [Kaggle](https://www.kaggle.com/)"
   ],
   "metadata": {
    "id": "sKPhH4PPx-mm",
    "pycharm": {
     "name": "#%% md\n"
    }
   }
  },
  {
   "cell_type": "code",
   "source": [
    "# Imports\n",
    "import tensorflow as tf\n",
    "import pandas as pd\n",
    "import matplotlib.pyplot as plt\n",
    "from sklearn.model_selection import train_test_split\n",
    "from sklearn.compose import make_column_transformer\n",
    "from sklearn.preprocessing import MinMaxScaler, OneHotEncoder"
   ],
   "metadata": {
    "id": "FQRK1rJq5Ypv",
    "executionInfo": {
     "status": "ok",
     "timestamp": 1630841693932,
     "user_tz": -180,
     "elapsed": 446,
     "user": {
      "displayName": "Daniele Mos",
      "photoUrl": "https://lh3.googleusercontent.com/a-/AOh14GiWdWHbnw6HCK4MRVgAIge-ESC7aVg8jfCDvUTUMQ=s64",
      "userId": "03843018356709783967"
     }
    },
    "execution": {
     "iopub.status.busy": "2021-09-06T05:54:52.287973Z",
     "iopub.execute_input": "2021-09-06T05:54:52.288785Z",
     "iopub.status.idle": "2021-09-06T05:54:59.150410Z",
     "shell.execute_reply.started": "2021-09-06T05:54:52.288653Z",
     "shell.execute_reply": "2021-09-06T05:54:59.149369Z"
    },
    "trusted": true,
    "pycharm": {
     "name": "#%%\n"
    }
   },
   "execution_count": 1,
   "outputs": []
  },
  {
   "cell_type": "code",
   "source": [
    "# Fetch the data from Github\n",
    "insurence_data = pd.read_csv('https://raw.githubusercontent.com/stedy/Machine-Learning-with-R-datasets/master/insurance.csv')\n",
    "insurence_data.head(10)"
   ],
   "metadata": {
    "id": "3XSZiVAf5qH2",
    "executionInfo": {
     "status": "ok",
     "timestamp": 1630841695290,
     "user_tz": -180,
     "elapsed": 12,
     "user": {
      "displayName": "Daniele Mos",
      "photoUrl": "https://lh3.googleusercontent.com/a-/AOh14GiWdWHbnw6HCK4MRVgAIge-ESC7aVg8jfCDvUTUMQ=s64",
      "userId": "03843018356709783967"
     }
    },
    "outputId": "4cdbd150-e445-4732-ea34-93213d3832d9",
    "execution": {
     "iopub.status.busy": "2021-09-06T05:54:59.152815Z",
     "iopub.execute_input": "2021-09-06T05:54:59.153128Z",
     "iopub.status.idle": "2021-09-06T05:54:59.477747Z",
     "shell.execute_reply.started": "2021-09-06T05:54:59.153098Z",
     "shell.execute_reply": "2021-09-06T05:54:59.476759Z"
    },
    "trusted": true,
    "pycharm": {
     "name": "#%%\n"
    }
   },
   "execution_count": 2,
   "outputs": [
    {
     "execution_count": 2,
     "output_type": "execute_result",
     "data": {
      "text/plain": "   age     sex     bmi  children smoker     region      charges\n0   19  female  27.900         0    yes  southwest  16884.92400\n1   18    male  33.770         1     no  southeast   1725.55230\n2   28    male  33.000         3     no  southeast   4449.46200\n3   33    male  22.705         0     no  northwest  21984.47061\n4   32    male  28.880         0     no  northwest   3866.85520\n5   31  female  25.740         0     no  southeast   3756.62160\n6   46  female  33.440         1     no  southeast   8240.58960\n7   37  female  27.740         3     no  northwest   7281.50560\n8   37    male  29.830         2     no  northeast   6406.41070\n9   60  female  25.840         0     no  northwest  28923.13692",
      "text/html": "<div>\n<style scoped>\n    .dataframe tbody tr th:only-of-type {\n        vertical-align: middle;\n    }\n\n    .dataframe tbody tr th {\n        vertical-align: top;\n    }\n\n    .dataframe thead th {\n        text-align: right;\n    }\n</style>\n<table border=\"1\" class=\"dataframe\">\n  <thead>\n    <tr style=\"text-align: right;\">\n      <th></th>\n      <th>age</th>\n      <th>sex</th>\n      <th>bmi</th>\n      <th>children</th>\n      <th>smoker</th>\n      <th>region</th>\n      <th>charges</th>\n    </tr>\n  </thead>\n  <tbody>\n    <tr>\n      <th>0</th>\n      <td>19</td>\n      <td>female</td>\n      <td>27.900</td>\n      <td>0</td>\n      <td>yes</td>\n      <td>southwest</td>\n      <td>16884.92400</td>\n    </tr>\n    <tr>\n      <th>1</th>\n      <td>18</td>\n      <td>male</td>\n      <td>33.770</td>\n      <td>1</td>\n      <td>no</td>\n      <td>southeast</td>\n      <td>1725.55230</td>\n    </tr>\n    <tr>\n      <th>2</th>\n      <td>28</td>\n      <td>male</td>\n      <td>33.000</td>\n      <td>3</td>\n      <td>no</td>\n      <td>southeast</td>\n      <td>4449.46200</td>\n    </tr>\n    <tr>\n      <th>3</th>\n      <td>33</td>\n      <td>male</td>\n      <td>22.705</td>\n      <td>0</td>\n      <td>no</td>\n      <td>northwest</td>\n      <td>21984.47061</td>\n    </tr>\n    <tr>\n      <th>4</th>\n      <td>32</td>\n      <td>male</td>\n      <td>28.880</td>\n      <td>0</td>\n      <td>no</td>\n      <td>northwest</td>\n      <td>3866.85520</td>\n    </tr>\n    <tr>\n      <th>5</th>\n      <td>31</td>\n      <td>female</td>\n      <td>25.740</td>\n      <td>0</td>\n      <td>no</td>\n      <td>southeast</td>\n      <td>3756.62160</td>\n    </tr>\n    <tr>\n      <th>6</th>\n      <td>46</td>\n      <td>female</td>\n      <td>33.440</td>\n      <td>1</td>\n      <td>no</td>\n      <td>southeast</td>\n      <td>8240.58960</td>\n    </tr>\n    <tr>\n      <th>7</th>\n      <td>37</td>\n      <td>female</td>\n      <td>27.740</td>\n      <td>3</td>\n      <td>no</td>\n      <td>northwest</td>\n      <td>7281.50560</td>\n    </tr>\n    <tr>\n      <th>8</th>\n      <td>37</td>\n      <td>male</td>\n      <td>29.830</td>\n      <td>2</td>\n      <td>no</td>\n      <td>northeast</td>\n      <td>6406.41070</td>\n    </tr>\n    <tr>\n      <th>9</th>\n      <td>60</td>\n      <td>female</td>\n      <td>25.840</td>\n      <td>0</td>\n      <td>no</td>\n      <td>northwest</td>\n      <td>28923.13692</td>\n    </tr>\n  </tbody>\n</table>\n</div>"
     },
     "metadata": {}
    }
   ]
  },
  {
   "cell_type": "markdown",
   "source": [
    "## Preprocessing data (normalization and standardization)"
   ],
   "metadata": {
    "id": "7j02hp91ifRG",
    "pycharm": {
     "name": "#%% md\n"
    }
   }
  },
  {
   "cell_type": "code",
   "source": [
    "# Create a column transformer\n",
    "\n",
    "ct = make_column_transformer(\n",
    "    (MinMaxScaler(), ['age', 'bmi', 'children']), # turn values betw. 0 and 1\n",
    "    (OneHotEncoder(handle_unknown='ignore'), ['sex', 'smoker', 'region'])\n",
    ")"
   ],
   "metadata": {
    "id": "fYC7uPjXdq6c",
    "executionInfo": {
     "status": "ok",
     "timestamp": 1630841697998,
     "user_tz": -180,
     "elapsed": 278,
     "user": {
      "displayName": "Daniele Mos",
      "photoUrl": "https://lh3.googleusercontent.com/a-/AOh14GiWdWHbnw6HCK4MRVgAIge-ESC7aVg8jfCDvUTUMQ=s64",
      "userId": "03843018356709783967"
     }
    },
    "execution": {
     "iopub.status.busy": "2021-09-06T05:54:59.479488Z",
     "iopub.execute_input": "2021-09-06T05:54:59.479772Z",
     "iopub.status.idle": "2021-09-06T05:54:59.484547Z",
     "shell.execute_reply.started": "2021-09-06T05:54:59.479746Z",
     "shell.execute_reply": "2021-09-06T05:54:59.483522Z"
    },
    "trusted": true,
    "pycharm": {
     "name": "#%%\n"
    }
   },
   "execution_count": 3,
   "outputs": []
  },
  {
   "cell_type": "code",
   "source": [
    "# Create features and labels\n",
    "\n",
    "X = insurence_data.drop('charges', axis=1)\n",
    "y = insurence_data['charges']\n",
    "\n",
    "X.head(3), y.head(3)"
   ],
   "metadata": {
    "id": "_zEJshQ3ZFSg",
    "executionInfo": {
     "status": "ok",
     "timestamp": 1630841700039,
     "user_tz": -180,
     "elapsed": 282,
     "user": {
      "displayName": "Daniele Mos",
      "photoUrl": "https://lh3.googleusercontent.com/a-/AOh14GiWdWHbnw6HCK4MRVgAIge-ESC7aVg8jfCDvUTUMQ=s64",
      "userId": "03843018356709783967"
     }
    },
    "outputId": "3562a01e-01a4-4caf-b0ae-ff78242e2ed3",
    "execution": {
     "iopub.status.busy": "2021-09-06T05:54:59.486016Z",
     "iopub.execute_input": "2021-09-06T05:54:59.486374Z",
     "iopub.status.idle": "2021-09-06T05:54:59.507740Z",
     "shell.execute_reply.started": "2021-09-06T05:54:59.486347Z",
     "shell.execute_reply": "2021-09-06T05:54:59.506776Z"
    },
    "trusted": true,
    "pycharm": {
     "name": "#%%\n"
    }
   },
   "execution_count": 4,
   "outputs": [
    {
     "execution_count": 4,
     "output_type": "execute_result",
     "data": {
      "text/plain": "(   age     sex    bmi  children smoker     region\n 0   19  female  27.90         0    yes  southwest\n 1   18    male  33.77         1     no  southeast\n 2   28    male  33.00         3     no  southeast,\n 0    16884.9240\n 1     1725.5523\n 2     4449.4620\n Name: charges, dtype: float64)"
     },
     "metadata": {}
    }
   ]
  },
  {
   "cell_type": "code",
   "source": [
    "# Create training and testing set\n",
    "\n",
    "X_train, X_test, y_train, y_test = train_test_split(\n",
    "    X, y, test_size=0.2, random_state=42\n",
    ")\n",
    "len(X), len(X_train), len(X_test)"
   ],
   "metadata": {
    "id": "gDvV0bLMdWpE",
    "executionInfo": {
     "status": "ok",
     "timestamp": 1630841701497,
     "user_tz": -180,
     "elapsed": 12,
     "user": {
      "displayName": "Daniele Mos",
      "photoUrl": "https://lh3.googleusercontent.com/a-/AOh14GiWdWHbnw6HCK4MRVgAIge-ESC7aVg8jfCDvUTUMQ=s64",
      "userId": "03843018356709783967"
     }
    },
    "outputId": "af5db44d-f6e1-4ee9-a998-276198fc838c",
    "execution": {
     "iopub.status.busy": "2021-09-06T05:54:59.508917Z",
     "iopub.execute_input": "2021-09-06T05:54:59.509190Z",
     "iopub.status.idle": "2021-09-06T05:54:59.519409Z",
     "shell.execute_reply.started": "2021-09-06T05:54:59.509164Z",
     "shell.execute_reply": "2021-09-06T05:54:59.518255Z"
    },
    "trusted": true,
    "pycharm": {
     "name": "#%%\n"
    }
   },
   "execution_count": 5,
   "outputs": [
    {
     "execution_count": 5,
     "output_type": "execute_result",
     "data": {
      "text/plain": "(1338, 1070, 268)"
     },
     "metadata": {}
    }
   ]
  },
  {
   "cell_type": "code",
   "source": [
    "# Fit column transformer to the training data\n",
    "ct.fit(X_train)"
   ],
   "metadata": {
    "id": "-aoR7PupfCM9",
    "executionInfo": {
     "status": "ok",
     "timestamp": 1630841703481,
     "user_tz": -180,
     "elapsed": 14,
     "user": {
      "displayName": "Daniele Mos",
      "photoUrl": "https://lh3.googleusercontent.com/a-/AOh14GiWdWHbnw6HCK4MRVgAIge-ESC7aVg8jfCDvUTUMQ=s64",
      "userId": "03843018356709783967"
     }
    },
    "outputId": "6acd68ab-6d50-413f-8ebc-36e70537c381",
    "execution": {
     "iopub.status.busy": "2021-09-06T05:54:59.520980Z",
     "iopub.execute_input": "2021-09-06T05:54:59.521381Z",
     "iopub.status.idle": "2021-09-06T05:54:59.546592Z",
     "shell.execute_reply.started": "2021-09-06T05:54:59.521340Z",
     "shell.execute_reply": "2021-09-06T05:54:59.545922Z"
    },
    "trusted": true,
    "pycharm": {
     "name": "#%%\n"
    }
   },
   "execution_count": 6,
   "outputs": [
    {
     "execution_count": 6,
     "output_type": "execute_result",
     "data": {
      "text/plain": "ColumnTransformer(transformers=[('minmaxscaler', MinMaxScaler(),\n                                 ['age', 'bmi', 'children']),\n                                ('onehotencoder',\n                                 OneHotEncoder(handle_unknown='ignore'),\n                                 ['sex', 'smoker', 'region'])])"
     },
     "metadata": {}
    }
   ]
  },
  {
   "cell_type": "code",
   "source": [
    "# Transform training and test data with normalization\n",
    "\n",
    "X_train_normal = ct.transform(X_train)\n",
    "X_test_normal = ct.transform(X_test)"
   ],
   "metadata": {
    "id": "xGIOD7g3fK9v",
    "executionInfo": {
     "status": "ok",
     "timestamp": 1630841705303,
     "user_tz": -180,
     "elapsed": 14,
     "user": {
      "displayName": "Daniele Mos",
      "photoUrl": "https://lh3.googleusercontent.com/a-/AOh14GiWdWHbnw6HCK4MRVgAIge-ESC7aVg8jfCDvUTUMQ=s64",
      "userId": "03843018356709783967"
     }
    },
    "execution": {
     "iopub.status.busy": "2021-09-06T05:54:59.547539Z",
     "iopub.execute_input": "2021-09-06T05:54:59.547994Z",
     "iopub.status.idle": "2021-09-06T05:54:59.565714Z",
     "shell.execute_reply.started": "2021-09-06T05:54:59.547946Z",
     "shell.execute_reply": "2021-09-06T05:54:59.564866Z"
    },
    "trusted": true,
    "pycharm": {
     "name": "#%%\n"
    }
   },
   "execution_count": 7,
   "outputs": []
  },
  {
   "cell_type": "code",
   "source": [
    "# Looking at the data\n",
    "X_train.shape, X_train_normal.shape"
   ],
   "metadata": {
    "id": "gcY1VYLRf540",
    "executionInfo": {
     "status": "ok",
     "timestamp": 1630841707200,
     "user_tz": -180,
     "elapsed": 7,
     "user": {
      "displayName": "Daniele Mos",
      "photoUrl": "https://lh3.googleusercontent.com/a-/AOh14GiWdWHbnw6HCK4MRVgAIge-ESC7aVg8jfCDvUTUMQ=s64",
      "userId": "03843018356709783967"
     }
    },
    "outputId": "876c995c-ddb3-4217-b732-35a1045adf8a",
    "execution": {
     "iopub.status.busy": "2021-09-06T05:54:59.567736Z",
     "iopub.execute_input": "2021-09-06T05:54:59.568037Z",
     "iopub.status.idle": "2021-09-06T05:54:59.573994Z",
     "shell.execute_reply.started": "2021-09-06T05:54:59.568010Z",
     "shell.execute_reply": "2021-09-06T05:54:59.573092Z"
    },
    "trusted": true,
    "pycharm": {
     "name": "#%%\n"
    }
   },
   "execution_count": 8,
   "outputs": [
    {
     "execution_count": 8,
     "output_type": "execute_result",
     "data": {
      "text/plain": "((1070, 6), (1070, 11))"
     },
     "metadata": {}
    }
   ]
  },
  {
   "cell_type": "code",
   "source": [
    "X_train_normal"
   ],
   "metadata": {
    "execution": {
     "iopub.status.busy": "2021-09-06T06:33:54.266189Z",
     "iopub.execute_input": "2021-09-06T06:33:54.266654Z",
     "iopub.status.idle": "2021-09-06T06:33:54.274882Z",
     "shell.execute_reply.started": "2021-09-06T06:33:54.266601Z",
     "shell.execute_reply": "2021-09-06T06:33:54.273825Z"
    },
    "trusted": true,
    "pycharm": {
     "name": "#%%\n"
    }
   },
   "execution_count": 73,
   "outputs": [
    {
     "execution_count": 73,
     "output_type": "execute_result",
     "data": {
      "text/plain": "array([[0.60869565, 0.10734463, 0.4       , ..., 1.        , 0.        ,\n        0.        ],\n       [0.63043478, 0.22491256, 0.        , ..., 0.        , 0.        ,\n        0.        ],\n       [0.73913043, 0.23944041, 0.        , ..., 0.        , 1.        ,\n        0.        ],\n       ...,\n       [0.86956522, 0.24791499, 0.        , ..., 0.        , 0.        ,\n        0.        ],\n       [0.41304348, 0.85122411, 0.4       , ..., 0.        , 0.        ,\n        1.        ],\n       [0.80434783, 0.37503363, 0.        , ..., 0.        , 0.        ,\n        1.        ]])"
     },
     "metadata": {}
    }
   ]
  },
  {
   "cell_type": "markdown",
   "source": [
    "## Build the model"
   ],
   "metadata": {
    "id": "wR_wRp32a5eB",
    "pycharm": {
     "name": "#%% md\n"
    }
   }
  },
  {
   "cell_type": "code",
   "source": [
    "tf.random.set_seed(42)\n",
    "\n",
    "insurence_model = tf.keras.Sequential([\n",
    "  tf.keras.layers.Dense(100, activation=\"relu\"),\n",
    "  tf.keras.layers.Dense(33, activation=\"relu\"),\n",
    "  tf.keras.layers.Dense(1)\n",
    "])\n",
    "\n",
    "insurence_model.compile(loss=tf.keras.losses.mae,\n",
    "                        optimizer=tf.keras.optimizers.Adam(lr=0.3),\n",
    "                        metrics=['mae'])\n",
    "\n",
    "trainingStopCallback = tf.keras.callbacks.EarlyStopping(monitor='val_loss', min_delta=0, patience=0, verbose=0,mode='auto', baseline=None, restore_best_weights=False)\n",
    "history = insurence_model.fit(X_train_normal, y_train, epochs=1000, verbose=0, batch_size=32, callbacks=[trainingStopCallback])"
   ],
   "metadata": {
    "id": "haouG4FKeVui",
    "executionInfo": {
     "status": "ok",
     "timestamp": 1630841929524,
     "user_tz": -180,
     "elapsed": 21509,
     "user": {
      "displayName": "Daniele Mos",
      "photoUrl": "https://lh3.googleusercontent.com/a-/AOh14GiWdWHbnw6HCK4MRVgAIge-ESC7aVg8jfCDvUTUMQ=s64",
      "userId": "03843018356709783967"
     }
    },
    "execution": {
     "iopub.status.busy": "2021-09-06T07:01:53.257898Z",
     "iopub.execute_input": "2021-09-06T07:01:53.258283Z",
     "iopub.status.idle": "2021-09-06T07:02:30.368373Z",
     "shell.execute_reply.started": "2021-09-06T07:01:53.258247Z",
     "shell.execute_reply": "2021-09-06T07:02:30.367601Z"
    },
    "trusted": true,
    "pycharm": {
     "name": "#%%\n"
    }
   },
   "execution_count": 132,
   "outputs": []
  },
  {
   "cell_type": "code",
   "source": [
    "# Evaluate the model\n",
    "insurence_model.evaluate(X_test_normal, y_test)"
   ],
   "metadata": {
    "id": "UlDfGbBnfKJ7",
    "executionInfo": {
     "status": "ok",
     "timestamp": 1630841942938,
     "user_tz": -180,
     "elapsed": 281,
     "user": {
      "displayName": "Daniele Mos",
      "photoUrl": "https://lh3.googleusercontent.com/a-/AOh14GiWdWHbnw6HCK4MRVgAIge-ESC7aVg8jfCDvUTUMQ=s64",
      "userId": "03843018356709783967"
     }
    },
    "outputId": "03b9dd01-e2d2-4e03-b099-cc5cd8be84f3",
    "execution": {
     "iopub.status.busy": "2021-09-06T07:02:32.772809Z",
     "iopub.execute_input": "2021-09-06T07:02:32.773440Z",
     "iopub.status.idle": "2021-09-06T07:02:32.920106Z",
     "shell.execute_reply.started": "2021-09-06T07:02:32.773401Z",
     "shell.execute_reply": "2021-09-06T07:02:32.918936Z"
    },
    "trusted": true,
    "pycharm": {
     "name": "#%%\n"
    }
   },
   "execution_count": 133,
   "outputs": [
    {
     "name": "stdout",
     "text": "9/9 [==============================] - 0s 1ms/step - loss: 1285.7281 - mae: 1285.7281\n",
     "output_type": "stream"
    },
    {
     "execution_count": 133,
     "output_type": "execute_result",
     "data": {
      "text/plain": "[1285.7281494140625, 1285.7281494140625]"
     },
     "metadata": {}
    }
   ]
  },
  {
   "cell_type": "code",
   "source": [
    "# Plot history\n",
    "pd.DataFrame(history.history).plot()\n",
    "plt.ylabel('loss')\n",
    "plt.xlabel('epochs')"
   ],
   "metadata": {
    "id": "ZCep2L4dfoIS",
    "executionInfo": {
     "status": "ok",
     "timestamp": 1630841946481,
     "user_tz": -180,
     "elapsed": 861,
     "user": {
      "displayName": "Daniele Mos",
      "photoUrl": "https://lh3.googleusercontent.com/a-/AOh14GiWdWHbnw6HCK4MRVgAIge-ESC7aVg8jfCDvUTUMQ=s64",
      "userId": "03843018356709783967"
     }
    },
    "outputId": "16150f90-9ebd-43bc-d8ae-423e8f3e2bed",
    "execution": {
     "iopub.status.busy": "2021-09-06T07:02:35.357582Z",
     "iopub.execute_input": "2021-09-06T07:02:35.357976Z",
     "iopub.status.idle": "2021-09-06T07:02:35.553052Z",
     "shell.execute_reply.started": "2021-09-06T07:02:35.357940Z",
     "shell.execute_reply": "2021-09-06T07:02:35.552138Z"
    },
    "trusted": true,
    "pycharm": {
     "name": "#%%\n"
    }
   },
   "execution_count": 134,
   "outputs": [
    {
     "execution_count": 134,
     "output_type": "execute_result",
     "data": {
      "text/plain": "Text(0.5, 0, 'epochs')"
     },
     "metadata": {}
    },
    {
     "output_type": "display_data",
     "data": {
      "text/plain": "<Figure size 432x288 with 1 Axes>",
      "image/png": "[encoded data removed]"
     },
     "metadata": {
      "needs_background": "light"
     }
    }
   ]
  }
 ]
}